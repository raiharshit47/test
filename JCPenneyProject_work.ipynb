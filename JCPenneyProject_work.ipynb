{
  "cells": [
    {
      "cell_type": "markdown",
      "metadata": {
        "id": "view-in-github",
        "colab_type": "text"
      },
      "source": [
        "<a href=\"https://colab.research.google.com/github/raiharshit47/test/blob/main/JCPenneyProject_work.ipynb\" target=\"_parent\"><img src=\"https://colab.research.google.com/assets/colab-badge.svg\" alt=\"Open In Colab\"/></a>"
      ]
    },
    {
      "cell_type": "markdown",
      "metadata": {
        "id": "LYgOEXPxZB6u"
      },
      "source": [
        "# University of Stirling\n",
        "\n",
        "# CSCU9M3, Scripting for Data Science\n",
        "\n",
        "# Assignment\n",
        "\n",
        "# A Consultancy Job for JC Penney\n",
        "\n",
        "This notebook forms the assignment instructions and submission document of the assignment for CSCU9M3. Read the instructions carefully and enter code into the cells as indicated.\n",
        "\n",
        "You will need these five files, which were in the Zip file you downloaded from the course webpage:\n",
        "\n",
        "- jcpenney_reviewers.json\n",
        "- jcpenney_products.json\n",
        "- products.csv\n",
        "- reviews.csv\n",
        "- users.csv\n",
        "\n",
        "The data in these files describes products that have been sold by the American retail giant, JC Penney, and reviews by customers who bought them. Note that the product data is real, but the customer data is synthetic.\n",
        "\n",
        "Your job is to process the data, as requested in the instructions in the markdown cells in this notebook."
      ]
    },
    {
      "cell_type": "markdown",
      "metadata": {
        "id": "IZfX_Mb3ZB62"
      },
      "source": [
        "# Completing the Assignment\n",
        "\n",
        "Rename this file to be xxxxxx_9M3 where xxxxxx is your student number, then type your code into the boxes provided. Each question is given in a markdown call, and there is an empty box beneath each one where you enter your answer. These boxes should contain 2 things:\n",
        "\n",
        "- **The code that performs the required task**\n",
        "- **Comments that explain your code**\n",
        "\n",
        "When you are ready to submit, save the code as HTML or print it to PDF for submission. Do not submit the .ipynb file!"
      ]
    },
    {
      "cell_type": "markdown",
      "metadata": {
        "id": "p3a47-JBZB64"
      },
      "source": [
        "# Marking Scheme\n",
        "The assessment will be marked against the university Common Marking Scheme (CMS)\n",
        "\n",
        "Here is a summary of what you need to achieve to gain a grade in the major grade bands:\n",
        "\n",
        "|Grade|Requirement|\n",
        "|:---|:---|\n",
        "| Pass | You must submit sufficient working code to show that you have mastered the basics of the task |\n",
        "| 2:2 | Your code is mostly correct, you have solved most of the problems, and your comments are useful|\n",
        "| 2:1 | You code is working, correct, and well commented and your attempt at the final part of the task works properly|\n",
        "| 1st | You code is working, correct, and well commented and you have produced a creative solution and analysis for the final part of the task|\n",
        "\n",
        "The full details of the CMS can be found here\n",
        "\n",
        "https://www.stir.ac.uk/about/professional-services/student-academic-and-corporate-services/academic-registry/academic-policy-and-practice/quality-handbook/assessment-policy-and-procedure/appendix-1-undergraduate-common-marking-scheme/\n",
        "\n",
        "Note that this means there are not certain numbers of marks allocated to each stage of the test. Your grade will reflect how well your solutions and comments demonstrate that you have achieved the learning outcomes of the task. The assessment is in two parts. Questions 1 to 17 require you to answer a specific question, but question 18 is broader and less prescriptive. Question 18 gives you the opportunity to show some creative thinking and analysis."
      ]
    },
    {
      "cell_type": "markdown",
      "metadata": {
        "id": "kvSwA1cpZB65"
      },
      "source": [
        "# Submission and Other Notes\n",
        "\n",
        "- Submit your notebook to the module webpage when it is complete\n",
        "- Make sure the version you submit contains the results of running every cell. The output should be visible without the need to run the code again\n",
        "\n",
        "## Plagiarism\n",
        "\n",
        "Plagiarism is presenting somebody else’s work as your own. Plagiarism is a form of academic misconduct and is taken very seriously by the University. Students found to have plagiarised work can have marks deducted and, in serious cases, even be expelled from the University. Do not submit any work that is not entirely your own. Do not collaborate with or get help from anybody else with this assignment.\n",
        "\n",
        "The University’s full guidance on academic misconduct can be found here:\n",
        "\n",
        "https://www.stir.ac.uk/about/professional-services/student-academic-and-corporate-services/academic-registry/academic-policy-and-practice/quality-handbook/academic-integrity-policy-and-academic-misconduct-procedure/"
      ]
    },
    {
      "cell_type": "markdown",
      "metadata": {
        "id": "NXlO2Q_8ZB66"
      },
      "source": [
        "# 1) Open both json files and read the contents of each into a string\n",
        "\n",
        "We will start with the JSON files. Open these two files as TEXT (don't read them into a dictionary yet):\n",
        "\n",
        "- jcpenney_reviewers.json\n",
        "- jcpenney_products.json\n",
        "\n",
        "and store the text they contain in two string variables called `reviewers_st` and `products_st`.\n",
        "Then print the first 500 characters of each string to get an idea of what is in the file"
      ]
    },
    {
      "cell_type": "code",
      "source": [
        "from google.colab import files\n",
        "Files = files.upload()"
      ],
      "metadata": {
        "id": "-Jao0DaIZH5E",
        "outputId": "fff578b4-a488-41d3-b060-4d8b33fd1942",
        "colab": {
          "resources": {
            "http://localhost:8080/nbextensions/google.colab/files.js": {
              "data": "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",
              "ok": true,
              "headers": [
                [
                  "content-type",
                  "application/javascript"
                ]
              ],
              "status": 200,
              "status_text": ""
            }
          },
          "base_uri": "https://localhost:8080/",
          "height": 213
        }
      },
      "execution_count": null,
      "outputs": [
        {
          "output_type": "display_data",
          "data": {
            "text/plain": [
              "<IPython.core.display.HTML object>"
            ],
            "text/html": [
              "\n",
              "     <input type=\"file\" id=\"files-601a2455-d9b3-421d-a1bf-096a881584f9\" name=\"files[]\" multiple disabled\n",
              "        style=\"border:none\" />\n",
              "     <output id=\"result-601a2455-d9b3-421d-a1bf-096a881584f9\">\n",
              "      Upload widget is only available when the cell has been executed in the\n",
              "      current browser session. Please rerun this cell to enable.\n",
              "      </output>\n",
              "      <script src=\"/nbextensions/google.colab/files.js\"></script> "
            ]
          },
          "metadata": {}
        },
        {
          "output_type": "stream",
          "name": "stdout",
          "text": [
            "Saving jcpenney_products.json to jcpenney_products.json\n",
            "Saving jcpenney_reviewers.json to jcpenney_reviewers.json\n",
            "Saving products.csv to products.csv\n",
            "Saving reviews.csv to reviews.csv\n",
            "Saving users.csv to users.csv\n"
          ]
        }
      ]
    },
    {
      "cell_type": "code",
      "execution_count": null,
      "metadata": {
        "id": "Q1oAjRHUZB68",
        "outputId": "69eec286-710a-4707-9b25-dc037f6acc54",
        "colab": {
          "base_uri": "https://localhost:8080/"
        }
      },
      "outputs": [
        {
          "output_type": "stream",
          "name": "stdout",
          "text": [
            "{\"uniq_id\": \"b6c0b6bea69c722939585baeac73c13d\", \"sku\": \"pp5006380337\", \"name_title\": \"Alfred Dunner\\u00ae Essential Pull On Capri Pant\", \"description\": \"You'll return to our Alfred Dunner pull-on capris again and again when you want an updated, casual look and all the comfort you love. \\u00a0 elastic waistband approx. 19-21\\\" inseam slash pockets polyester washable imported \\u00a0 \\u00a0 \\u00a0\", \"list_price\": \"41.09\", \"sale_price\": \"24.16\", \"category\": \"alfred dunner\", \"category_tree\": \"jcpenney\n",
            "\n",
            "\n",
            "\n",
            "{\"Username\": \"bkpn1412\", \"DOB\": \"31.07.1983\", \"State\": \"Oregon\", \"Reviewed\": [\"cea76118f6a9110a893de2b7654319c0\"]}\n",
            "{\"Username\": \"gqjs4414\", \"DOB\": \"27.07.1998\", \"State\": \"Massachusetts\", \"Reviewed\": [\"fa04fe6c0dd5189f54fe600838da43d3\"]}\n",
            "{\"Username\": \"eehe1434\", \"DOB\": \"08.08.1950\", \"State\": \"Idaho\", \"Reviewed\": []}\n",
            "{\"Username\": \"hkxj1334\", \"DOB\": \"03.08.1969\", \"State\": \"Florida\", \"Reviewed\": [\"f129b1803f447c2b1ce43508fb822810\", \"3b0c9bc0be65a3461893488314236116\"]}\n",
            "{\"Username\": \"jjbd1412\", \"DOB\": \n"
          ]
        }
      ],
      "source": [
        "# Put your code and comments here\n",
        "products_st = open('jcpenney_products.json', 'r').read()\n",
        "reviewers_st = open('jcpenney_reviewers.json', 'r').read()\n",
        "\n",
        "print(products_st[0:501])\n",
        "print('\\n\\n')\n",
        "print(reviewers_st[0:501])"
      ]
    },
    {
      "cell_type": "markdown",
      "metadata": {
        "id": "4h9s7iNfZB69"
      },
      "source": [
        "# 2) Read the files into lists of rows\n",
        "\n",
        "Read each file again, this time putting the data from each into a list where each entry in the list is a single row of text from the file. You should have two variables, both of which are lists of strings. Call them `reviewers_list` and `products_list`.\n",
        "\n",
        "Print the first three entries of each array."
      ]
    },
    {
      "cell_type": "code",
      "source": [
        "import json\n",
        "import pandas as pd\n",
        "import numpy as np"
      ],
      "metadata": {
        "id": "8AKj5-q1p4C1"
      },
      "execution_count": null,
      "outputs": []
    },
    {
      "cell_type": "code",
      "execution_count": null,
      "metadata": {
        "scrolled": true,
        "id": "fo55ZEB7ZB6-",
        "outputId": "604bdcd4-703d-4d2c-f1fc-e24b59044646",
        "colab": {
          "base_uri": "https://localhost:8080/"
        }
      },
      "outputs": [
        {
          "output_type": "stream",
          "name": "stdout",
          "text": [
            "{'Username': 'bkpn1412', 'DOB': '31.07.1983', 'State': 'Oregon', 'Reviewed': ['cea76118f6a9110a893de2b7654319c0']}\n",
            "{'Username': 'gqjs4414', 'DOB': '27.07.1998', 'State': 'Massachusetts', 'Reviewed': ['fa04fe6c0dd5189f54fe600838da43d3']}\n",
            "{'Username': 'eehe1434', 'DOB': '08.08.1950', 'State': 'Idaho', 'Reviewed': []}\n"
          ]
        }
      ],
      "source": [
        "# Put your code and comments here\n",
        "reviwers_list = []\n",
        "products_list = []\n",
        "\n",
        "with open('jcpenney_reviewers.json','r') as f:\n",
        "    for jsonObj in f:\n",
        "        reviwersDict = json.loads(jsonObj)\n",
        "        reviwers_list.append(reviwersDict)\n",
        "\n",
        "for i in range(3):\n",
        "  print(reviwers_list[i])"
      ]
    },
    {
      "cell_type": "code",
      "source": [
        "with open('jcpenney_products.json','r') as f:\n",
        "    for jsonObj1 in f:\n",
        "        productsDict = json.loads(jsonObj1)\n",
        "        products_list.append(productsDict)\n",
        "\n",
        "for i in range(3):\n",
        "  print(products_list[i])"
      ],
      "metadata": {
        "id": "HuHjjoe3rHe4",
        "outputId": "17fb3b86-fc75-4761-f848-0b0b376d148b",
        "colab": {
          "base_uri": "https://localhost:8080/"
        }
      },
      "execution_count": null,
      "outputs": [
        {
          "output_type": "stream",
          "name": "stdout",
          "text": [
            "{'uniq_id': 'b6c0b6bea69c722939585baeac73c13d', 'sku': 'pp5006380337', 'name_title': 'Alfred Dunner® Essential Pull On Capri Pant', 'description': 'You\\'ll return to our Alfred Dunner pull-on capris again and again when you want an updated, casual look and all the comfort you love. \\xa0 elastic waistband approx. 19-21\" inseam slash pockets polyester washable imported \\xa0 \\xa0 \\xa0', 'list_price': '41.09', 'sale_price': '24.16', 'category': 'alfred dunner', 'category_tree': 'jcpenney|women|alfred dunner', 'average_product_rating': 2.625, 'product_url': 'http://www.jcpenney.com/alfred-dunner-essential-pull-on-capri-pant/prod.jump?ppId=pp5006380337&catId=cat1002110079&&_dyncharset=UTF-8&urlState=/women/shop-brands/alfred-dunner/yellow/_/N-gkmp33Z132/cat.jump', 'product_image_urls': 'http://s7d9.scene7.com/is/image/JCPenney/DP1228201517142050M.tif?hei=380&amp;wid=380&op_usm=.4,.8,0,0&resmode=sharp2&op_usm=1.5,.8,0,0&resmode=sharp', 'brand': 'Alfred Dunner', 'total_number_reviews': 8, 'Reviews': [{'User': 'fsdv4141', 'Review': 'You never have to worry about the fit...Alfred Dunner clothing sizes are true to size and fits perfectly. Great value for the money.', 'Score': 2}, {'User': 'krpz1113', 'Review': 'Good quality fabric. Perfect fit. Washed very well no iron.', 'Score': 4}, {'User': 'mbmg3241', 'Review': 'I do not normally wear pants or capris that have an elastic waist, but I decided to try these since they were on sale and I loved the color. I was very surprised at how comfortable they are and wear really well even wearing all day. I will buy this style again!', 'Score': 4}, {'User': 'zeqg1222', 'Review': 'I love these capris! They fit true to size and are so comfortable to wear. I am planning to order more of them.', 'Score': 1}, {'User': 'nvfn3212', 'Review': 'This product is very comfortable and the fabric launders very well', 'Score': 1}, {'User': 'aajh3423', 'Review': 'I did not like the fabric. It is 100% polyester I thought it was different.I bought one at the store apprx two monts ago, and I thought it was just like it', 'Score': 5}, {'User': 'usvp2142', 'Review': 'What a great deal. Beautiful Pants. Its more than I expected.', 'Score': 3}, {'User': 'yemw3321', 'Review': 'Alfred Dunner has great pants, good fit and very comfortable', 'Score': 1}], 'Bought With': ['898e42fe937a33e8ce5e900ca7a4d924', '8c02c262567a2267cd207e35637feb1c', 'b62dd54545cdc1a05d8aaa2d25aed996', '0da4c2dcc8cfa0e71200883b00d22b30', '90c46b841e2eeece992c57071387899c']}\n",
            "{'uniq_id': '93e5272c51d8cce02597e3ce67b7ad0a', 'sku': 'pp5006380337', 'name_title': 'Alfred Dunner® Essential Pull On Capri Pant', 'description': 'You\\'ll return to our Alfred Dunner pull-on capris again and again when you want an updated, casual look and all the comfort you love. \\xa0 elastic waistband approx. 19-21\" inseam slash pockets polyester washable imported \\xa0 \\xa0 \\xa0', 'list_price': '41.09', 'sale_price': '24.16', 'category': 'alfred dunner', 'category_tree': 'jcpenney|women|alfred dunner', 'average_product_rating': 3.0, 'product_url': 'http://www.jcpenney.com/alfred-dunner-essential-pull-on-capri-pant/prod.jump?ppId=pp5006380337&catId=cat1002310017&&_dyncharset=UTF-8&urlState=/women/specialty-sizing/petites/shop-brands/alfred-dunner/10-petite/_/N-gkqzcxZ1z1407s/cat.jump', 'product_image_urls': 'http://s7d9.scene7.com/is/image/JCPenney/DP1228201517142050M.tif?hei=380&amp;wid=380&op_usm=.4,.8,0,0&resmode=sharp2&op_usm=1.5,.8,0,0&resmode=sharp', 'brand': 'Alfred Dunner', 'total_number_reviews': 8, 'Reviews': [{'User': 'tpcu2211', 'Review': 'You never have to worry about the fit...Alfred Dunner clothing sizes are true to size and fits perfectly. Great value for the money.', 'Score': 1}, {'User': 'vutl2421', 'Review': 'Good quality fabric. Perfect fit. Washed very well no iron.', 'Score': 3}, {'User': 'ixlo1324', 'Review': 'I do not normally wear pants or capris that have an elastic waist, but I decided to try these since they were on sale and I loved the color. I was very surprised at how comfortable they are and wear really well even wearing all day. I will buy this style again!', 'Score': 3}, {'User': 'dued2313', 'Review': 'I love these capris! They fit true to size and are so comfortable to wear. I am planning to order more of them.', 'Score': 3}, {'User': 'nkmn4113', 'Review': 'This product is very comfortable and the fabric launders very well', 'Score': 5}, {'User': 'tyfr4414', 'Review': 'I did not like the fabric. It is 100% polyester I thought it was different.I bought one at the store apprx two monts ago, and I thought it was just like it', 'Score': 2}, {'User': 'hyhy1222', 'Review': 'What a great deal. Beautiful Pants. Its more than I expected.', 'Score': 4}, {'User': 'oofb2342', 'Review': 'Alfred Dunner has great pants, good fit and very comfortable', 'Score': 3}], 'Bought With': ['bc9ab3406dcaa84a123b9da862e6367d', '18eb69e8fc27e9c79b3209b672317f5b', '52c6e0ee4e9f1f2389510d46d0405c1f', 'a610cd02e529a837b54e83cef5064146', 'a1cba5df721a1b35f2c706ddb6b889a0']}\n",
            "{'uniq_id': '013e320f2f2ec0cf5b3ff5418d688528', 'sku': 'pp5006380337', 'name_title': 'Alfred Dunner® Essential Pull On Capri Pant', 'description': 'You\\'ll return to our Alfred Dunner pull-on capris again and again when you want an updated, casual look and all the comfort you love. \\xa0 elastic waistband approx. 19-21\" inseam slash pockets polyester washable imported \\xa0 \\xa0 \\xa0', 'list_price': '41.09', 'sale_price': '24.16', 'category': 'view all', 'category_tree': 'jcpenney|women|view all', 'average_product_rating': 2.625, 'product_url': 'http://www.jcpenney.com/alfred-dunner-essential-pull-on-capri-pant/prod.jump?ppId=pp5006380337&catId=cat1004110004&&_dyncharset=UTF-8&urlState=/women/specialty-sizing/petites/shop-brands/alfred-dunner/view-all/16/_/N-gltk8kZ9m/cat.jump', 'product_image_urls': 'http://s7d9.scene7.com/is/image/JCPenney/DP1228201517142050M.tif?hei=380&amp;wid=380&op_usm=.4,.8,0,0&resmode=sharp2&op_usm=1.5,.8,0,0&resmode=sharp', 'brand': 'Alfred Dunner', 'total_number_reviews': 8, 'Reviews': [{'User': 'pcfg3234', 'Review': 'You never have to worry about the fit...Alfred Dunner clothing sizes are true to size and fits perfectly. Great value for the money.', 'Score': 3}, {'User': 'yark3323', 'Review': 'Good quality fabric. Perfect fit. Washed very well no iron.', 'Score': 1}, {'User': 'vbii4342', 'Review': 'I do not normally wear pants or capris that have an elastic waist, but I decided to try these since they were on sale and I loved the color. I was very surprised at how comfortable they are and wear really well even wearing all day. I will buy this style again!', 'Score': 5}, {'User': 'yegt2433', 'Review': 'I love these capris! They fit true to size and are so comfortable to wear. I am planning to order more of them.', 'Score': 1}, {'User': 'zqga3121', 'Review': 'This product is very comfortable and the fabric launders very well', 'Score': 1}, {'User': 'poql1141', 'Review': 'I did not like the fabric. It is 100% polyester I thought it was different.I bought one at the store apprx two monts ago, and I thought it was just like it', 'Score': 5}, {'User': 'zvyd3312', 'Review': 'What a great deal. Beautiful Pants. Its more than I expected.', 'Score': 4}, {'User': 'iukw3244', 'Review': 'Alfred Dunner has great pants, good fit and very comfortable', 'Score': 1}], 'Bought With': ['3ce70f519a9cfdd85cdbdecd358e5347', 'b0295c96d2b1bb87be4eac9604b3b3d3', '4dcb4ca8eaeff5531c4a4c217e760ec7', 'ed05ab49d0b09e9d16982eebad5c6f9f', '91370968f3f556de4c8d5cfbb543b23c']}\n"
          ]
        }
      ]
    },
    {
      "cell_type": "markdown",
      "metadata": {
        "id": "ra43fhLbZB6_"
      },
      "source": [
        "# 3) Read each entry in the string arrays into dictionary objects to create two lists of dictionaries\n",
        "\n",
        "Iterate over the two lists, `reviewers_list` and `products_list` one at a time and produce two new lists of dictionaries. Call them `reviewers_dicts` and `products_dicts`.\n",
        "\n",
        "For full marks, do this with a list comprehension.\n",
        "\n",
        "Print the first 2 entries in each list."
      ]
    },
    {
      "cell_type": "code",
      "execution_count": null,
      "metadata": {
        "id": "IkQvnVKvZB7A",
        "outputId": "1a75fbfd-c48a-4b1a-8782-4ae70aed8239",
        "colab": {
          "base_uri": "https://localhost:8080/"
        }
      },
      "outputs": [
        {
          "output_type": "stream",
          "name": "stdout",
          "text": [
            "reviwers_dict \n",
            "\n"
          ]
        },
        {
          "output_type": "execute_result",
          "data": {
            "text/plain": [
              "[{'DOB': '31.07.1983',\n",
              "  'Reviewed': ['cea76118f6a9110a893de2b7654319c0'],\n",
              "  'State': 'Oregon',\n",
              "  'Username': 'bkpn1412'},\n",
              " {'DOB': '27.07.1998',\n",
              "  'Reviewed': ['fa04fe6c0dd5189f54fe600838da43d3'],\n",
              "  'State': 'Massachusetts',\n",
              "  'Username': 'gqjs4414'}]"
            ]
          },
          "metadata": {},
          "execution_count": 6
        }
      ],
      "source": [
        "# Put your code and comments here\n",
        "\n",
        "reviewers_dict = [x for x in reviwers_list ]\n",
        "print('reviwers_dict \\n')\n",
        "reviewers_dict[:2]"
      ]
    },
    {
      "cell_type": "code",
      "source": [
        "products_dict = [x for x in products_list ]\n",
        "print('products_dict \\n')\n",
        "products_dict[:2]"
      ],
      "metadata": {
        "colab": {
          "base_uri": "https://localhost:8080/"
        },
        "id": "SEo26UNlO4lg",
        "outputId": "90c3e643-96c1-4847-b2f4-38da4d52129b"
      },
      "execution_count": null,
      "outputs": [
        {
          "output_type": "stream",
          "name": "stdout",
          "text": [
            "products_dict \n",
            "\n"
          ]
        },
        {
          "output_type": "execute_result",
          "data": {
            "text/plain": [
              "[{'Bought With': ['898e42fe937a33e8ce5e900ca7a4d924',\n",
              "   '8c02c262567a2267cd207e35637feb1c',\n",
              "   'b62dd54545cdc1a05d8aaa2d25aed996',\n",
              "   '0da4c2dcc8cfa0e71200883b00d22b30',\n",
              "   '90c46b841e2eeece992c57071387899c'],\n",
              "  'Reviews': [{'Review': 'You never have to worry about the fit...Alfred Dunner clothing sizes are true to size and fits perfectly. Great value for the money.',\n",
              "    'Score': 2,\n",
              "    'User': 'fsdv4141'},\n",
              "   {'Review': 'Good quality fabric. Perfect fit. Washed very well no iron.',\n",
              "    'Score': 4,\n",
              "    'User': 'krpz1113'},\n",
              "   {'Review': 'I do not normally wear pants or capris that have an elastic waist, but I decided to try these since they were on sale and I loved the color. I was very surprised at how comfortable they are and wear really well even wearing all day. I will buy this style again!',\n",
              "    'Score': 4,\n",
              "    'User': 'mbmg3241'},\n",
              "   {'Review': 'I love these capris! They fit true to size and are so comfortable to wear. I am planning to order more of them.',\n",
              "    'Score': 1,\n",
              "    'User': 'zeqg1222'},\n",
              "   {'Review': 'This product is very comfortable and the fabric launders very well',\n",
              "    'Score': 1,\n",
              "    'User': 'nvfn3212'},\n",
              "   {'Review': 'I did not like the fabric. It is 100% polyester I thought it was different.I bought one at the store apprx two monts ago, and I thought it was just like it',\n",
              "    'Score': 5,\n",
              "    'User': 'aajh3423'},\n",
              "   {'Review': 'What a great deal. Beautiful Pants. Its more than I expected.',\n",
              "    'Score': 3,\n",
              "    'User': 'usvp2142'},\n",
              "   {'Review': 'Alfred Dunner has great pants, good fit and very comfortable',\n",
              "    'Score': 1,\n",
              "    'User': 'yemw3321'}],\n",
              "  'average_product_rating': 2.625,\n",
              "  'brand': 'Alfred Dunner',\n",
              "  'category': 'alfred dunner',\n",
              "  'category_tree': 'jcpenney|women|alfred dunner',\n",
              "  'description': 'You\\'ll return to our Alfred Dunner pull-on capris again and again when you want an updated, casual look and all the comfort you love. \\xa0 elastic waistband approx. 19-21\" inseam slash pockets polyester washable imported \\xa0 \\xa0 \\xa0',\n",
              "  'list_price': '41.09',\n",
              "  'name_title': 'Alfred Dunner® Essential Pull On Capri Pant',\n",
              "  'product_image_urls': 'http://s7d9.scene7.com/is/image/JCPenney/DP1228201517142050M.tif?hei=380&amp;wid=380&op_usm=.4,.8,0,0&resmode=sharp2&op_usm=1.5,.8,0,0&resmode=sharp',\n",
              "  'product_url': 'http://www.jcpenney.com/alfred-dunner-essential-pull-on-capri-pant/prod.jump?ppId=pp5006380337&catId=cat1002110079&&_dyncharset=UTF-8&urlState=/women/shop-brands/alfred-dunner/yellow/_/N-gkmp33Z132/cat.jump',\n",
              "  'sale_price': '24.16',\n",
              "  'sku': 'pp5006380337',\n",
              "  'total_number_reviews': 8,\n",
              "  'uniq_id': 'b6c0b6bea69c722939585baeac73c13d'},\n",
              " {'Bought With': ['bc9ab3406dcaa84a123b9da862e6367d',\n",
              "   '18eb69e8fc27e9c79b3209b672317f5b',\n",
              "   '52c6e0ee4e9f1f2389510d46d0405c1f',\n",
              "   'a610cd02e529a837b54e83cef5064146',\n",
              "   'a1cba5df721a1b35f2c706ddb6b889a0'],\n",
              "  'Reviews': [{'Review': 'You never have to worry about the fit...Alfred Dunner clothing sizes are true to size and fits perfectly. Great value for the money.',\n",
              "    'Score': 1,\n",
              "    'User': 'tpcu2211'},\n",
              "   {'Review': 'Good quality fabric. Perfect fit. Washed very well no iron.',\n",
              "    'Score': 3,\n",
              "    'User': 'vutl2421'},\n",
              "   {'Review': 'I do not normally wear pants or capris that have an elastic waist, but I decided to try these since they were on sale and I loved the color. I was very surprised at how comfortable they are and wear really well even wearing all day. I will buy this style again!',\n",
              "    'Score': 3,\n",
              "    'User': 'ixlo1324'},\n",
              "   {'Review': 'I love these capris! They fit true to size and are so comfortable to wear. I am planning to order more of them.',\n",
              "    'Score': 3,\n",
              "    'User': 'dued2313'},\n",
              "   {'Review': 'This product is very comfortable and the fabric launders very well',\n",
              "    'Score': 5,\n",
              "    'User': 'nkmn4113'},\n",
              "   {'Review': 'I did not like the fabric. It is 100% polyester I thought it was different.I bought one at the store apprx two monts ago, and I thought it was just like it',\n",
              "    'Score': 2,\n",
              "    'User': 'tyfr4414'},\n",
              "   {'Review': 'What a great deal. Beautiful Pants. Its more than I expected.',\n",
              "    'Score': 4,\n",
              "    'User': 'hyhy1222'},\n",
              "   {'Review': 'Alfred Dunner has great pants, good fit and very comfortable',\n",
              "    'Score': 3,\n",
              "    'User': 'oofb2342'}],\n",
              "  'average_product_rating': 3.0,\n",
              "  'brand': 'Alfred Dunner',\n",
              "  'category': 'alfred dunner',\n",
              "  'category_tree': 'jcpenney|women|alfred dunner',\n",
              "  'description': 'You\\'ll return to our Alfred Dunner pull-on capris again and again when you want an updated, casual look and all the comfort you love. \\xa0 elastic waistband approx. 19-21\" inseam slash pockets polyester washable imported \\xa0 \\xa0 \\xa0',\n",
              "  'list_price': '41.09',\n",
              "  'name_title': 'Alfred Dunner® Essential Pull On Capri Pant',\n",
              "  'product_image_urls': 'http://s7d9.scene7.com/is/image/JCPenney/DP1228201517142050M.tif?hei=380&amp;wid=380&op_usm=.4,.8,0,0&resmode=sharp2&op_usm=1.5,.8,0,0&resmode=sharp',\n",
              "  'product_url': 'http://www.jcpenney.com/alfred-dunner-essential-pull-on-capri-pant/prod.jump?ppId=pp5006380337&catId=cat1002310017&&_dyncharset=UTF-8&urlState=/women/specialty-sizing/petites/shop-brands/alfred-dunner/10-petite/_/N-gkqzcxZ1z1407s/cat.jump',\n",
              "  'sale_price': '24.16',\n",
              "  'sku': 'pp5006380337',\n",
              "  'total_number_reviews': 8,\n",
              "  'uniq_id': '93e5272c51d8cce02597e3ce67b7ad0a'}]"
            ]
          },
          "metadata": {},
          "execution_count": 7
        }
      ]
    },
    {
      "cell_type": "markdown",
      "metadata": {
        "id": "hr5ieII2ZB7A"
      },
      "source": [
        "# 4) Prove that the type of the first entry in each list is a dictionary\n",
        "Write some code that shows that the first entry in each list is a dictionary.\n"
      ]
    },
    {
      "cell_type": "code",
      "execution_count": null,
      "metadata": {
        "id": "TBth-L82ZB7B",
        "colab": {
          "base_uri": "https://localhost:8080/"
        },
        "outputId": "b8155a61-eddc-4f5c-9b09-1d7c06f378bd"
      },
      "outputs": [
        {
          "output_type": "execute_result",
          "data": {
            "text/plain": [
              "dict"
            ]
          },
          "metadata": {},
          "execution_count": 8
        }
      ],
      "source": [
        "# Put your code and comments here\n",
        "type(reviwers_list[0])"
      ]
    },
    {
      "cell_type": "code",
      "source": [
        "type(products_list[0])"
      ],
      "metadata": {
        "colab": {
          "base_uri": "https://localhost:8080/"
        },
        "id": "g0eWPdV-oQJk",
        "outputId": "1cf5ee1f-7362-4cb9-ae4e-fd424fe5ad0f"
      },
      "execution_count": null,
      "outputs": [
        {
          "output_type": "execute_result",
          "data": {
            "text/plain": [
              "dict"
            ]
          },
          "metadata": {},
          "execution_count": 9
        }
      ]
    },
    {
      "cell_type": "markdown",
      "metadata": {
        "id": "Xwjn8UySZB7B"
      },
      "source": [
        "# 5) List the keys for both the reviewers dictionary structure and the products dictionary structure\n",
        "\n",
        "Every entry in the reviewers list has the same structure, and the same is true for the products. Use Python code to display the unique names of the keys in each structure - that is, show each key once.\n",
        "\n",
        "Don't print any data values at this point, just the keys."
      ]
    },
    {
      "cell_type": "code",
      "execution_count": null,
      "metadata": {
        "id": "HtjZP1P-ZB7B",
        "colab": {
          "base_uri": "https://localhost:8080/"
        },
        "outputId": "6c506920-f6fc-405a-d171-345e8da73247"
      },
      "outputs": [
        {
          "output_type": "execute_result",
          "data": {
            "text/plain": [
              "dict_keys(['Username', 'DOB', 'State', 'Reviewed'])"
            ]
          },
          "metadata": {},
          "execution_count": 10
        }
      ],
      "source": [
        "# Put your code and comments here\n",
        "reviwers_list[0].keys()"
      ]
    },
    {
      "cell_type": "code",
      "source": [
        "products_list[0].keys()"
      ],
      "metadata": {
        "colab": {
          "base_uri": "https://localhost:8080/"
        },
        "id": "hdGID2HgQIfS",
        "outputId": "402da53a-54ff-4f6e-b5a5-5dc6ee2f2315"
      },
      "execution_count": null,
      "outputs": [
        {
          "output_type": "execute_result",
          "data": {
            "text/plain": [
              "dict_keys(['uniq_id', 'sku', 'name_title', 'description', 'list_price', 'sale_price', 'category', 'category_tree', 'average_product_rating', 'product_url', 'product_image_urls', 'brand', 'total_number_reviews', 'Reviews', 'Bought With'])"
            ]
          },
          "metadata": {},
          "execution_count": 11
        }
      ]
    },
    {
      "cell_type": "markdown",
      "metadata": {
        "id": "KNXfLvraZB7C"
      },
      "source": [
        "# 6) Extract the reviews list from the first product and display it\n",
        "\n",
        "Each product has a field called `Reviews`. Use some Python code to extract the detail and structure of this field from the first product in `products_dicts`. Write code to say as much as you can about the data in that field.\n",
        "\n",
        "In the comments, write about what the data represent and which parts of it your code is extracting."
      ]
    },
    {
      "cell_type": "code",
      "execution_count": null,
      "metadata": {
        "id": "CoX-SbkpZB7C",
        "colab": {
          "base_uri": "https://localhost:8080/",
          "height": 35
        },
        "outputId": "78af363e-8ecc-4752-e9eb-5b1cb4fe1ad5"
      },
      "outputs": [
        {
          "output_type": "execute_result",
          "data": {
            "text/plain": [
              "'You never have to worry about the fit...Alfred Dunner clothing sizes are true to size and fits perfectly. Great value for the money.'"
            ],
            "application/vnd.google.colaboratory.intrinsic+json": {
              "type": "string"
            }
          },
          "metadata": {},
          "execution_count": 12
        }
      ],
      "source": [
        "# Put your code and comments here\n",
        "products_dict[0]  #First product\n",
        "products_dict[0]['Reviews']  #Extracting only reviews\n",
        "products_dict[0]['Reviews'][0]['Review'] #Extracting detail structure of review"
      ]
    },
    {
      "cell_type": "markdown",
      "metadata": {
        "id": "MOB-VvBAZB7D"
      },
      "source": [
        "# 7) Write a function that takes a username and returns the full dictionary for that username\n",
        "\n",
        "The function should take one argument and return the dictionary from `reviewers_dicts` that contains the given username in its `Username` field. If the username is not found, it should return `None`.\n",
        "\n",
        "Name the function `find_user`\n",
        "\n",
        "Test it by calling it with `krpz1113` and `rtm3422`"
      ]
    },
    {
      "cell_type": "code",
      "execution_count": null,
      "metadata": {
        "id": "4VdloeIUZB7D"
      },
      "outputs": [],
      "source": [
        "# Put your code and comments here\n",
        "def find_user(username):\n",
        "  username_list = []\n",
        "  for i in range(0, len(reviewers_dict)):\n",
        "    username_list.append(reviewers_dict[i]['Username'])\n",
        "  if username in username_list:\n",
        "    j = username_list.index(username)\n",
        "    return (reviewers_dict[j])\n",
        "  else:\n",
        "    return None  \n"
      ]
    },
    {
      "cell_type": "code",
      "source": [
        "find_user('krpz1113')"
      ],
      "metadata": {
        "id": "EW9JCGZkUKBP",
        "colab": {
          "base_uri": "https://localhost:8080/"
        },
        "outputId": "250e4178-baf4-4b0c-9211-852edee3ef5f"
      },
      "execution_count": null,
      "outputs": [
        {
          "output_type": "execute_result",
          "data": {
            "text/plain": [
              "{'DOB': '30.07.1987',\n",
              " 'Reviewed': ['9ce30016f492e7cc09e4554d4c67230d',\n",
              "  'b28e5508c1b0022f47ae8c6f92c4cb6c',\n",
              "  '0042bd96f5792677f1db0eb222972752'],\n",
              " 'State': 'Virginia',\n",
              " 'Username': 'krpz1113'}"
            ]
          },
          "metadata": {},
          "execution_count": 14
        }
      ]
    },
    {
      "cell_type": "code",
      "source": [
        "find_user('rtm3422')"
      ],
      "metadata": {
        "id": "71WslYl6q51M"
      },
      "execution_count": null,
      "outputs": []
    },
    {
      "cell_type": "code",
      "source": [
        "find_user('bkpn1412')"
      ],
      "metadata": {
        "colab": {
          "base_uri": "https://localhost:8080/"
        },
        "id": "h_7cIFt-rAAa",
        "outputId": "60e0a60d-d357-454b-eb5a-f0d77c78908a"
      },
      "execution_count": null,
      "outputs": [
        {
          "output_type": "execute_result",
          "data": {
            "text/plain": [
              "{'DOB': '31.07.1983',\n",
              " 'Reviewed': ['cea76118f6a9110a893de2b7654319c0'],\n",
              " 'State': 'Oregon',\n",
              " 'Username': 'bkpn1412'}"
            ]
          },
          "metadata": {},
          "execution_count": 16
        }
      ]
    },
    {
      "cell_type": "code",
      "source": [
        "find_user('gqjs4414')"
      ],
      "metadata": {
        "id": "mm5HLWEgrVum",
        "colab": {
          "base_uri": "https://localhost:8080/"
        },
        "outputId": "873ffddb-e8d0-4fe2-c2e5-185f9f85dda1"
      },
      "execution_count": null,
      "outputs": [
        {
          "output_type": "execute_result",
          "data": {
            "text/plain": [
              "{'DOB': '27.07.1998',\n",
              " 'Reviewed': ['fa04fe6c0dd5189f54fe600838da43d3'],\n",
              " 'State': 'Massachusetts',\n",
              " 'Username': 'gqjs4414'}"
            ]
          },
          "metadata": {},
          "execution_count": 17
        }
      ]
    },
    {
      "cell_type": "markdown",
      "metadata": {
        "id": "FHdiHywIZB7E"
      },
      "source": [
        "# 8) Write another function that takes a product id and returns the full dictionary for the associated product\n",
        "\n",
        "The function should take one argument and return the dictionary from `products_dicts` that contains the given product id in its `uniq_id` field. If the product id is not found, it should return `None`.\n",
        "\n",
        "Name the function `find_product`\n",
        "\n",
        "Test it by calling it with `b28e5508c1b0022f47ae8c6f92c4cb6c`"
      ]
    },
    {
      "cell_type": "code",
      "source": [
        "def find_product(uniq_id):\n",
        "  uniq_id_list = []\n",
        "  for i in range(0, len(products_dict)):\n",
        "    uniq_id_list.append(products_dict[i]['uniq_id'])\n",
        "  if uniq_id in uniq_id_list:\n",
        "    j = uniq_id_list.index(uniq_id)\n",
        "    return (products_dict[j])\n",
        "  else:\n",
        "    return None  "
      ],
      "metadata": {
        "id": "h2mSt0f8FK5K"
      },
      "execution_count": null,
      "outputs": []
    },
    {
      "cell_type": "code",
      "source": [
        "find_product('b6c0b6bea69c722939585baeac73c13d')"
      ],
      "metadata": {
        "colab": {
          "base_uri": "https://localhost:8080/"
        },
        "id": "KZh_NdKjuWxn",
        "outputId": "7b4b4ce1-9b5f-4646-b982-b77832520d53"
      },
      "execution_count": null,
      "outputs": [
        {
          "output_type": "execute_result",
          "data": {
            "text/plain": [
              "{'Bought With': ['898e42fe937a33e8ce5e900ca7a4d924',\n",
              "  '8c02c262567a2267cd207e35637feb1c',\n",
              "  'b62dd54545cdc1a05d8aaa2d25aed996',\n",
              "  '0da4c2dcc8cfa0e71200883b00d22b30',\n",
              "  '90c46b841e2eeece992c57071387899c'],\n",
              " 'Reviews': [{'Review': 'You never have to worry about the fit...Alfred Dunner clothing sizes are true to size and fits perfectly. Great value for the money.',\n",
              "   'Score': 2,\n",
              "   'User': 'fsdv4141'},\n",
              "  {'Review': 'Good quality fabric. Perfect fit. Washed very well no iron.',\n",
              "   'Score': 4,\n",
              "   'User': 'krpz1113'},\n",
              "  {'Review': 'I do not normally wear pants or capris that have an elastic waist, but I decided to try these since they were on sale and I loved the color. I was very surprised at how comfortable they are and wear really well even wearing all day. I will buy this style again!',\n",
              "   'Score': 4,\n",
              "   'User': 'mbmg3241'},\n",
              "  {'Review': 'I love these capris! They fit true to size and are so comfortable to wear. I am planning to order more of them.',\n",
              "   'Score': 1,\n",
              "   'User': 'zeqg1222'},\n",
              "  {'Review': 'This product is very comfortable and the fabric launders very well',\n",
              "   'Score': 1,\n",
              "   'User': 'nvfn3212'},\n",
              "  {'Review': 'I did not like the fabric. It is 100% polyester I thought it was different.I bought one at the store apprx two monts ago, and I thought it was just like it',\n",
              "   'Score': 5,\n",
              "   'User': 'aajh3423'},\n",
              "  {'Review': 'What a great deal. Beautiful Pants. Its more than I expected.',\n",
              "   'Score': 3,\n",
              "   'User': 'usvp2142'},\n",
              "  {'Review': 'Alfred Dunner has great pants, good fit and very comfortable',\n",
              "   'Score': 1,\n",
              "   'User': 'yemw3321'}],\n",
              " 'average_product_rating': 2.625,\n",
              " 'brand': 'Alfred Dunner',\n",
              " 'category': 'alfred dunner',\n",
              " 'category_tree': 'jcpenney|women|alfred dunner',\n",
              " 'description': 'You\\'ll return to our Alfred Dunner pull-on capris again and again when you want an updated, casual look and all the comfort you love. \\xa0 elastic waistband approx. 19-21\" inseam slash pockets polyester washable imported \\xa0 \\xa0 \\xa0',\n",
              " 'list_price': '41.09',\n",
              " 'name_title': 'Alfred Dunner® Essential Pull On Capri Pant',\n",
              " 'product_image_urls': 'http://s7d9.scene7.com/is/image/JCPenney/DP1228201517142050M.tif?hei=380&amp;wid=380&op_usm=.4,.8,0,0&resmode=sharp2&op_usm=1.5,.8,0,0&resmode=sharp',\n",
              " 'product_url': 'http://www.jcpenney.com/alfred-dunner-essential-pull-on-capri-pant/prod.jump?ppId=pp5006380337&catId=cat1002110079&&_dyncharset=UTF-8&urlState=/women/shop-brands/alfred-dunner/yellow/_/N-gkmp33Z132/cat.jump',\n",
              " 'sale_price': '24.16',\n",
              " 'sku': 'pp5006380337',\n",
              " 'total_number_reviews': 8,\n",
              " 'uniq_id': 'b6c0b6bea69c722939585baeac73c13d'}"
            ]
          },
          "metadata": {},
          "execution_count": 19
        }
      ]
    },
    {
      "cell_type": "markdown",
      "metadata": {
        "id": "7sA3kL-mZB7E"
      },
      "source": [
        "# 9) Now use the functions you have just written to list a user's reviews\n",
        "\n",
        "Write a *generator* function that takes a username and yields all the reviews the person with that username has written, one at a time. This function should call the two functions you defined in 7) and 8).\n",
        "\n",
        "Call the function to get a generator object and then iterate over it to list the reviews written by username `krpz1113`."
      ]
    },
    {
      "cell_type": "code",
      "execution_count": null,
      "metadata": {
        "id": "xvd8cpVdZB7F",
        "colab": {
          "base_uri": "https://localhost:8080/"
        },
        "outputId": "84e7c78b-1377-473e-ed2b-dcd604bbefbf"
      },
      "outputs": [
        {
          "name": "stdout",
          "output_type": "stream",
          "text": [
            "Enter username: krpz1113\n"
          ]
        },
        {
          "output_type": "execute_result",
          "data": {
            "text/plain": [
              "['I am completely in love with this device...my skin looks seriously flawless after less than 2 weeks use. I wasnt going to write a review this soon, but I am just that impressed and it has made a difference very quickly. I havent had major acne or anything, but I do have clogged pores and some hyper pigmentation on my temples. I have normal to combination skin. Because I use chemical exfoliants (most recently the Drunk Elephant TLC Glycolic Night Serum with BHA & AHA) I felt like using a Clarisonic would be too aggressive on my skin and overexfoliate. So when I read a ton of good reviews and watched a video on YouTube of a Beautypedia review of this product (check it out, it has some helpful info...they say it doesnt matter which device you get the $99 or $169 one the results are the same) I had to try it since it supposed to be gentler on your skin than the Clarisonic. I was VERY skeptical it would work, and actually thought the silicone bristles would actually impact my pores and make them more clogged. I was impressed after the first use. My face was super soft and it did bring up some of the gunk that had been in my pores that my BHA could not get out. Really impressive because I swear by chemical exfoliants. Initially the first few days my skin did go through a minor purging period where it was bringing up debris from my pores that had been deep in my skin. But after those few days my skin is literally glowing. I have seen the edges around my dark spots start to fade because I believe it helps my serum and other treatments sink in deeper than they normally would. I even use it around my eyes which usually get drier than the rest of my face and my makeup settles into my squinting lines under my eyes. After using this for almost two weeks my eyes look much smoother with makeup on mainly because I think my moisturizer and serum is able to penetrate deeper. I noticed last night that I had a milia bump by my eye (a stubborn little whitehead that are impossible to get fid of) and it is completely gone! I am still able to use my Drunk Elephant Glycolic Serum with no problems or sensitivity. This is very gentle, I dont feel like I am scrubbing off my face. I do only use it at night though. It is very easy to use and keep clean. The way it is made it fits easily into your palm and can get into the crevices of your face and around and under your eyes. It feels nice to use, I even have my hubby using it also! I cant compare it to the Clarisonic but just because this is a gentle cleansing device it packs a mighty punch in getting your face cleaner than you have ever seen, seriously. Sorry for the long review, but this is an investment you should research before buying so I hope this was helpful! This little gem was worth every penny!',\n",
              " 'I bought this for my brother and he loves it.Nice quality and unbeatable price.',\n",
              " 'Saw the same dress at another dept store for over twice the price. this material just as nice beautiful details looks elegant highly reccommend']"
            ]
          },
          "metadata": {},
          "execution_count": 40
        }
      ],
      "source": [
        "# Put your code and comments here   #Doubt\n",
        "Username = input('Enter username: ')\n",
        "product_id = find_user(Username)['Reviewed']\n",
        "reviews = []\n",
        "\n",
        "for x in product_id:\n",
        "  obj = find_product(x)['Reviews']\n",
        "  for i in range(0, len(obj)):\n",
        "    if obj[i]['User'] == Username:\n",
        "      reviews.append(obj[i]['Review'])\n",
        "\n",
        "reviews\n",
        " \n"
      ]
    },
    {
      "cell_type": "markdown",
      "metadata": {
        "id": "kLo5B1_VZB7F"
      },
      "source": [
        "# 10) Display the image of a product\n",
        "\n",
        "The field called `product_image_urls` contains a URL of a product image. Use the `requests` module to retrieve the image and display it using whatever module you like.\n",
        "\n",
        "Find the image for the product with code `a1cba5df721a1b35f2c706ddb6b889a0`"
      ]
    },
    {
      "cell_type": "code",
      "execution_count": null,
      "metadata": {
        "id": "V_9ojmKiZB7F",
        "colab": {
          "base_uri": "https://localhost:8080/",
          "height": 397
        },
        "outputId": "f6f85ef1-1f33-4ec5-f84b-ccc0c3fbf83d"
      },
      "outputs": [
        {
          "output_type": "execute_result",
          "data": {
            "text/plain": [
              "<PIL.JpegImagePlugin.JpegImageFile image mode=RGB size=380x380 at 0x7FD62F73F350>"
            ],
            "image/png": "[encoded data removed]"
          },
          "metadata": {},
          "execution_count": 23
        }
      ],
      "source": [
        "# Put your code and comments here\n",
        "import requests\n",
        "import PIL\n",
        "from PIL import Image\n",
        "\n",
        "response = requests.get(find_product('a1cba5df721a1b35f2c706ddb6b889a0')['product_image_urls'], stream=True).raw\n",
        "img = Image.open(response)\n",
        "img"
      ]
    },
    {
      "cell_type": "markdown",
      "metadata": {
        "id": "r60HAaDpZB7G"
      },
      "source": [
        "# 11) List all the unique product categories\n",
        "\n",
        "Find all the unique product categories mentioned in the `category` field of the products data and store them in a set. Print the contents of the set."
      ]
    },
    {
      "cell_type": "code",
      "execution_count": null,
      "metadata": {
        "id": "8DzhGBukZB7G",
        "colab": {
          "base_uri": "https://localhost:8080/"
        },
        "outputId": "7d383776-b4da-4032-bdd7-e542d77d7693"
      },
      "outputs": [
        {
          "output_type": "stream",
          "name": "stdout",
          "text": [
            "{'', 'a.n.a', 'skillets & frying pans', 'bath rugs & bath mats', 'top gifts under $50', 'thermals & henleys', 'baby essentials', 'baby monitors', 'bakeware', 'workwear t-shirts', 'kitchen gadgets & utensils', \"women's swimwear\", 'hangers', 'area rugs', 'sponges & applicators', 'suits & suit separates', 'athletic sandals', 'bras $10-$13', \"june's birthstone: pearl\", 'juniors plus', 'kids', \"men's swimwear\", 'search-results', 'evening separates', 'tough duck', 'pillows', 'haggar', 'view all cook & dine', 'baby shower', 'dolls & doll houses', \"men's shorts\", 'casio', \"guy's sleepwear\", 'oxford shirts', 'royal velvet', 'kids & teen rooms', 'playtex', 'nike', 'guys prom shop', 'living room sets', \"levi's 501® original\", 'bed head', 'watches under $100', 'dining sets', 'one piece & bodysuits', 'gemstone rings', 'vest', 'personalized gifts for him', 'view all kitchen & dining furniture', 'shorts', 'lingerie', 'girls one piece swimsuits', \"juniors' shorts\", 'outdoor grilling', 'sterling silver rings', 'mi zone', 'dining room tables', 'training', 'chair cushions & covers', 'sundresses', 'pants & jeans', 'casual sandals', 'dressers & chests', \"men's pants\", 'jacket dresses', 'wool coats', 'mens thermals', 'flat front shorts', 'view all kids & teens rooms', 'trendy sweaters', 'decorative pillows & shams', 'ankle boots & booties', 'doorbuster', 'spinner luggage', 'gemstone jewelry', 'kids casual shoes', 'hoodies & sweatshirts', 'bras & accessories', 'view all watches', 'drinkware sets', 'by recipient', 'flats & ballet', 'womens scrubs & workwear', 'loafers', 'chair cushions', 'wide widths', 'boys 8-20', 'scrubs & lab coats', 'eye brushes', 'for kids', 'sleepwear', 'made for life', 'view all petite', 'view all sale', 'sheer curtains', 'necklaces & pendants', '$50 and under', 'view all big & tall workout clothes', '$30 & under', 'games & puzzles', 'cushioned socks', 'view all', 'pumps & heels', 'hanes', 't-shirts & polos', 'emma', 'clothing', 'signature khakis', 'home expressions', 'infant & toddler shoes', 'french toast', \"boy's jeans\", 'mosaica', 'bijoux bar @ jcp', 'hoover', 'graphic tees', 'personalized wedding bands', 'jackets & blazers', 'view all eye makeup', 'umbrellas & covers', 'serveware', 'spring break shop', 'view all kitchen', 'gifts under $15', 'jogger pants', 'wide calf boots', 'top gifts under $25', 'dresses', 'self-tanner for body', 'dryers', 'socks, leggings & tights', 'thermals', 'jcpenney home', 'pleated pants', \"boy's shorts\", 'pet care', 'view all gadgets, games & outdoor', 'cooks', 'belts & accessories', 'entertaining shop', 'persian & oriental', 'boys shoes', 'costumes & dress-up', 'full figure underwire bras', 'kids in the kitchen', 'by & by', 'levi’s 514™ straight', 'name & initial jewelry', 'fitness', 'star wars', 'family travel', 'view all scarves & wraps', 'jeans & pants', \"juniors' sweaters\", 'possibilities collection', 'full figure strapless & convertible bras', 'sexy lingerie', 'view all mens shirts', 'sweatshirts & hoodies', 'furniture & decor', 'formal table setting', 'gifts under $100', 'boys 2t-5t', 'casual dinnerware', 'athletic shirts', 'cuisinart', 'runners', 'Stafford socks & underwear', 'clothing sets', 'mens', 'winter hats, scarves, gloves', 'button-front', 'martha stewart', 'cinderella', 'vans', 't-shirts', 'capris & crops', 'blenders & juicers', 'hats, scarves & gloves', 'twin load washers', \"st. john's bay\", 'chairs', 'kids & teens room decor', 'holiday decor', 'rugs', 'home office', 'fleece jackets', 'laundry care & storage', 'shoulder bags', 'workwear shirts', 'french country', 'long underwear & thermals', \"women's cold weather accessories\", 'sports bras', 'slim fit tees', 'kitchen & dining', \"men's jewelry\", 'preschool (4-7x)', 'nourison', 'specialty appliances', 'small sizes 7 1/2 & under', 'track-arm', 'fashion watches', 'accent pillows', 'tfal', \"women's sweaters\", 'nursing', 'pajamas', 'cocktail glasses', 'breast cancer awareness ties', 'shop by shoe width', 'suits and sport coats', 'natural comfort & cotton', 'view all lip treatments', 'top gifts', 'gold jewelry', 'sofia cultured pearls', 'bar stools', 'pants & skirts', 'tanks & camis', 'bed & bath', 'reebok', 'view all ties & accessories', 'gadgets, games & outdoor', 'maidenform', 'view all guys clearance', 'ge', 'travel accessories', 'athletic', 'dorm room decor', 'canisters', 'quilts & bedspreads', 'graduation dresses', 'tops', 'panties', 'ties & accessories', 'socks, hosiery & tights', 'smaller sizes', 'shorts & crops', 'tunic', 'tie accessories & more', 'underwear', 'value & gift sets', 'shapewear & girdles', 'mother-of-the-bride/groom', 'view all suits & sport coats', 'bras', 'big & tall', \"teens' rooms\", 'sterling silver jewelry', 'the outdoor shop', 'pumps', 'furniture', 'active', 'jumpsuits & rompers', 'flip flops', 'dressers & nightstands', '3-stone rings', 'eva longoria home', \"outfits you'll love\", 'boys husky', 'loafers & slip-ons', 'hairspray & styling products', 'free country', \"men's graphic tees\", 'strapless & convertible', 'sure fit', 'lg', 'makeup palettes', 'eclo™ earth-friendly pants', 'vintage chic', 'vacuums & floorcare', 'toddler furniture', 'gifts under $25', 'kids & teens', 'camisoles & tanks', \"view all women's watches\", 'comforters & bedding sets', 'shop all_dummy', 'sets', \"baby's shorts\", 'view all toddler girls 2t-5t', 'car seats', 'view all brands', 'ballet flats', 'soft pants', 'ninja', 'view all lee', 'slippers', 'view all moisturizers', 'mickey mouse and friends', 'view all guys shirts', 'jcpenney black friday sale', 'face primer', 'boho', 'reversible belts', 'wallets & accessories', \"women's sleepwear\", 'disney princess', \"women's watches\", 'kimonos & ponchos', 'blackout curtains & shades', 'bedspreads', 'stylus', 'jockey', 'appliance packages', 'perfume', 'casual shirts', \"men's apparel\", 'bags and backpacks', 'athletic jogger pants', 'home', 'cookware', 'toddler bedding', 'madison park', 'pantyhose', 'collared & button-front', 'girls view all', 'levi’s', 'view all rings', 'view all guys', 'gadgets', 'wall ovens', 'coveralls & overalls', \"guy's jeans\", 'extra wide widths', 'view all boys 8-20', 'pants & leggings', 'kids & teens furniture', 'activewear', 'tabletop', \"levi's 501® shrink to fit\", 'costumes and accessories', 'the getaway shop', 'beds & bedroom sets', 'desks', 'cold weather bedding', \"view all men's watches\", 'customer favorites', 'wallets', \"guy's swimwear\", 'dishwashers', 'sofia the first', 'totes', 'bracelets', 'health & wellness', 'plus sizes', 'suits & sport coats', 'media', 'shorts & swimwear', 'reinforced toe & heel socks', 'pots & pans', 'infant & toddler', 'womens', 'irons & laundry care', 'u.s. polo assn.', \"men's sweaters\", 'kubo collection', 'dickies', 'diamond jewelry', 'skate shop', 'costumes & dress up', 'stafford', 'fit secrets', 'EXPLORE THE CATALOG', 'drink dispensers', 'kids & teens rugs', 'promise rings', 'sectionals', 'dutch ovens', 'neckties', 'cotton', 'baby furniture', 'table & desk lamps', 'larger sizes', 'trending now', 'grills & griddles', \"january's birthstone\", 'tops,tanks & camis', '2-day deals', 'girls dress shoes', 'boys athletic shoes', \"all women's shoes\", 'chi', 'foundation', 'bean bag chairs', 'liz claiborne (copy)', 'swim tops', 'cleansers', 'deals', 'wedding', 'pajamas & robes', 'shirts & tees', 'pajamas and slippers', 'city fit', 'outdoor rugs & door mats', 'kitchen curtains', 'comfort sneakers', 'view all clothing', 'bath rugs & mats', 'view all graphic tees', 'hair brushes & combs', 'armitron', 'nike elite socks', 'mattresses', 'oliver collection', 'shop now', 'under $25', 'women', 'farberware', 'sneakers', 't-shirts & tanks', 'face makeup', 'jcpenney', 'disney', 'tall', 'the foundry supply co.', 'bedroom sets', 'slips', 'body lotions & body oils', 'cardigans', '$40-$50 boots', 'view all baby toddler clothing', 'makeup palettes & sets', 'twin mattresses', 'roller shades', 'cardigan', 'boys uniform shoes', 'view all t-shirts', 'dockers', 'demi & plunge bras', 'view all mens clearance', 'slim fit', 'teen bedding', 'winter & rain boots', 'hypoallergenic earrings', 'mother of bride/groom', 'ottomans', 'Stafford pants', 'sheets', 'study essentials', 'view all nike apparel', 'bath towels sizes & care tips', 'bisou bisou', 'canvas & boat shoes', 'samsung', 'all juniors shoes', 'down & down-alt comforters', 'checked bags', 'kitchenaid', 'henley shirts', 'new arrivals', 'cover-ups', '$20-$30 boots', 'bridesmaid dresses', 'the christmas shop', 'pants', 'swim', 'kitchen furniture', 'sterling silver & silver plated', 'suit separates', 'single serve brewers', 'salon', 'ring bearer', \"view all women's\", 'girls 7-16', 'baby girl clothes 0-24 months', 'full figure racerback bras', 'pajama sets', 'fit and flare', 'face wash & cleanser', 'baby boy clothes 0-24 months', 'suited separates', 'under $100', 'kids sneakers', 'linens', 'large sizes 13 & over', 'dishes', 'backpacks', 'windows', 'view all living room furniture', 'lightweight jackets', 'view all boys 4-7', 'handbags & accessories', 'plus size', 'comfort sandals', \"men's sleepwear\", 'all fine jewelry', 'riding boots', 'suits & separates', 'speedo', 'big kid (6-20)', 'tanks', 'weekend wear', 'nursing bras & tank tops', 'living room', 'swimsuits & cover-ups', 'view all guys levis', 'kids boots', 'racer back bras', 'pajamas & nightgowns', 'flatware', 'boys casual shoes', 'disney apparel by okie dokie', 'media & storage furniture', 'fleece', 'HIDDEN CATEGORIES', 'rollerballs & travel size', 'rustic', \"kid's sleepwear\", 'curling irons', \"women's shoes\", 'swim dress', 'view all treatments', 'home decor & rugs', 'view all adidas', 'work boots', 'leather bags', 'swim trunks', 'roasting pans', 'special occasion shoes', 'shower curtains', 'wedding bands', 'cargo shorts', 'lingerie sets', 'view all gemstones', 'accessories', 'groom accessories', 'self-tanner for face', 'all brands', 'duvets', 'bottoms', 'levi’s 569™ loose straight', 'swim bottoms', 'memory foam', 'body wash & shower gel', 'refrigerators', 'energy efficient & blackout', 'bedroom curtains & decor', 'storage & organization', 'bb & cc creams', 'workout clothes', 'mattress pads', 'view all baby gear', 'high tech tools', 'tables', 'clearance', 'eye makeup', 'baby girl 0-24 months', 'full figure sports bras', 'cushions & pillows', 'denim shorts', \"men's watches\", 'zeroxposur', 'wool blend coats', 'swim shorts', 'wireless bras', 'travel & coffee mugs', 'basketball', 'athletic shorts', 'fine watches', 'sandals under $20', 'juniors jewelry', 'food storage', 'womens sneakers', 'decorative objects', 'all athletic shoes', 'bootcut', 'tankinis', 'straight', 'college kitchen essentials', 'adidas climacool apparel', 'sofas & sectionals', 'top picks', 'fashion tops', 'industrial', 'keracare', 'view all dining & entertaining', 'diaper bags', 'couristan', 'skechers', 'sports apparel', 'buffets & storage', 'under $30', 'college & dorm bedding', 'liz claiborne', 'bath towels & decor', 'nicole by nicole miller', 'men', \"women's shorts\", 'one piece', 'eye care', \"july's birthstone\", 'Stafford belts, suspenders, & wallets', 'rice cookers & steamers', 'lighting & lamps', 'coverlets', 'sleep essentials', 'mid-calf boots', 'jewelry', 'flats & loafers', 'skirts & scooters', 'juniors', 'balconette bras', 'buy more and save', 'Stafford ties & accessories', 'pfaltzgraff', 'roman shades', 'faux fur boots', 'glassware & mugs', 'dream on collection', 'extended sizes', 'sandals & flip flops', 'bermuda', 'animals & critters', 'full figure bras', 'levi’s 511™ slim', 'bed frames', 'specialty electrics', 'knee & thigh highs', 'rachael ray', 'eyeliner', 'christmas pajamas & slippers', 'columbia', 'shift dresses', 'all work shoes', 'boots', 'baby bedding', \"kid's coats & jackets\", 'flannel shirts', 'view all hoodies & sweatshirts', 'luggage & backpacks', \"women's clothing\", 'room decor', 'plus size lingerie', 'bras $30 & under', 'Stafford suits & sportcoats', 'small appliances', 'all sandals & flip flops', 'young men', 'desktop & electronics', 'levi’s 560™ comfort', 'topcoats & overcoats', 'pillow cases & protectors', 'timex', 'sweater dresses', 'tinted moisturizer', 'for women', \"juniors' school uniforms\", 'skeleton watches', 'boys sneakers', 'suits & sportcoats', 'bomber jackets', 'gloria vanderbilt', 'bedding', 'socks', 'for the bride', 'jeans', 'alfred dunner', 'earrings', 'wide width shoes', 'for men', 'wine & bar accessories', 'deco glow', 'red kap', 'view all fine jewelry', 'wedges', 'luminaire', 'My Little Pony', 'skorts', 'all modern bride', 'face oils', 'coffeemakers', 'wear to work', 'rings', 'jewelry sets', 'flirtitude', 'nail polish', 'jamaica bay', \"carter's\", 'wallets & wristlets', 'wall decor', 'quilts', 'tops & tees', 'view all Stafford', 'window', 'wedding dresses', 'valances', 'active jackets', 'ambrielle', 'furniture sets', 'girls', 'underwire bras', 'gifts over $100', 'pga tour', 'sealy', 'highlighter', 'view all collections', 'all watches', 'pajamas and robes', 'wear to work pants', 'athletic shoes', 'jf j.ferrar', '$30-$50 handbags & wallets', 'nursing & feeding', 'belts', 'collection by michael strahan', 'satchels', 'guys', \"guy's school uniforms\", 'worthington', 'open toe & peep toe', 'bedding sets', 'fit and flare dresses', \"men's fleece\", 'hipster', 'washable rugs', 'leather strap watches', 'solitaire rings', 'king mattresses', 'curtains & drapes', 'glamorise', 'cargo pants', 'fine jewelry for bride', 'buy more & save', 'hobo bags', \"kid's shoes\", 'wedge sandals', \"girl's jeans\", 'bath storage', 'view all handbags & wallets', \"june's birthstone\", 'full figure wireless bras', \"men's jeans\", 'baby & toddler clothing', 'comfort clogs & mules', 'desks & chairs', 'view all active', 'diamonart', 'bulova', 'essential mens pants', \"september's birthstone\", 'throw rugs & accent rugs', 'laundry & cleaning', 'view all bedroom furniture', 'slow cookers & warmers', 'false eyelashes', 'full figure t-shirt bras', 'epicurious', 'casual shoes', 'nike base layer', 'faux wood blinds', 'electric blankets', 'leather & faux leather jackets', 'alyx', 'homecoming dresses', 'xersion', 'christmas sweaters', \"women's jeans\", 'moisture wicking underwear', 'mattress pads & toppers', 'hair color & root touch up', 'dress pants', 'swimwear', 'face brushes', 'decree', 'fashion rings', 'down comforters', 'converse', 'school uniforms', '$25 and under', 'freezers & ice makers', \"all men's shoes\", 'shapewear', 'view all maternity', 'easter', 'yoga', 'jegging', 'table linens', 'blinds & shades', 'kids chairs', 'bed skirts', 'seiko', 'original fit', \"baby's coats & jackets\", 'cold weather & rain boots', 'value sets', 'cooktops', 'cargos', \"levi's\", 'bras, underwear & socks', \"guy's shorts\", 'hair oil', 'bras under $20', 'view all bath & shower', 'shorts & capris', 'face powder', 'wedding guest dresses', 'jean jackets', 'robes & wraps', 'shrugs', 'view all mens shorts', \"baby's sleepwear\", 'bathroom accessories', 'comfort shoes', 'skirts', 'casual button-down shirts', 'adidas joggers', 'view all dockers', 'belle + sky', 'ENERGY STAR certified', 'add your items', 'casual flats', 'gold toe', 'shoe, handbag & accessories sale', 'kids bedding', 'maxi dresses', 'church dresses', 'coffee & tea', 'baby gifts', 'by category', 'dress clothes', 'nail base coats & top coats', 'shirts & blouses', \"men's coats & jackets\", 'designer picks', 'wrangler', 'simplehuman', 'slingbacks', 'gliders & rockers', 'dress sandals', 'sofas', 'batman vs. superman', 'baby', 'toasters & ovens', 'view all face makeup', 'dress boots', 'belts & suspenders', 'eyebrows', \"juniors' swimwear\", 'golf apparel', \"valentine's day\", 'i jeans by buffalo', 'assets red hot label by spanx', 'backpacks & bags', 'polos', 'for baby', 'girls casual shoes', 'workwear & scrubs', 'marvel shop', 'umbra', 'black label by evan picone', 'glassware + mugs', 'wides', 'girls athletic shoes', 'curtain rods & hardware', 'okie dokie', 'business & laptop', 'tops & t-shirts', 'fitness accessories', 'ecko unltd', \"girl's swimwear\", 'pajama separates', 'total girl', 'coffee mugs', 'one pieces', \"men's sneakers\", 'pants & bottoms', 'fall harvest & thanksgiving', 'brushes & applicators', 'patio & outdoor living', 'boutique+', 'clarks', 'hair care', \"women's pants\", 'graphic t-shirts', 'accent furniture', 'skincare sets', 'vests', 'girls slim', 'all fashion jewelry', 'champion', 'fashion accessories', 'boys slim', 'jackets & hoodies', 'leggings', 'gifts under $50', 'ice cream & beverage', 'nails', 'shirts and tops', 'hoodies & fleece', 'all kids shoes', 'all comfort shoes', 'collections', 'citizen', 't-shirt bras', 'hamilton beach', 'girls 2t-5t', 'levi’s 513™ slim straight', 'patio', 'lace dresses', 'sweaters', 'bridal lingerie', 'beds', 'nordicware', 'swimsuits', \"levi's 501 original fit-big tall\", 'shorts & swim', 'swim shirts', 'carry-ons', 'gifts & accessories', 'storage furniture', \"juniors' jeans\", 'dress shoes', 'sunscreen', 'handbags', 'crossbody bags', 'seventeen', 'relic', 'personalized', 'carts & islands', 'kitchen rugs', 'Stafford shirts', 'i heart ronson', 'i said yes', 'the vacation shop', 'summer infant', 'footwear', 'sweaters & cardigans', 'kids character shoes', 'shop all characters', \"guy's pants\", 'view all big & tall shirts', 'rosetti', 'dale tiffany', 'special occasion', 'under $20', 'sandals over $40', 'tall boots', 'pearl jewelry', 'shirts & tops', 'trendy plus', 'all christmas decor', 'dress shirts & ties', 't-shirts & knit tops', 'styling products', 'under $50', 'bath furniture', 'arts & crafts', 'home decor', 'outdoor rugs & doormats', 'mascara', 'thermal underwear', 'christmas shop', 'beach towels', 'trimshaper', 'stud earrings', 'braided', 'sauce & saute pans', 'platform', 'sunbeam', 'nursing bras', 'birthstone jewelry', 'shoes', 'cars', 'croscill classics', 'maternity', 'krups', \"boy's pants\", 'bali', 'scalp & hair treatment', 'view all pants', 'kid', 'home environment', 'chairs & recliners', 'cardigans & shrugs', 'golf', 'blazers', 'call it spring', 'luggage collections', 'coffee', \"kid's sneakers\", 'watches', 'aprons & kitchen towels', 'boys 4-7', 'adidas', 'kids sandals', 'monogram shop', 'calphalon', 'view all jeans', 'mcklein', 'trendy dresses', 'view all arizona', 'athletic clothes', \"girl's shorts\", 'mixit', 'athleisure', 'sport coats', 'fashion jewelry & watches', 'lip', 'under $10', 'view all furniture', 'comfort dress shoes', 'fashion jewelry', 'denim jackets', 'view all decor', 'view all shorts', 'view all toys', 'pillows & throws', 'dress shirts', 'window treatments', 'azul', 'all sneakers', 'underwear & socks', \"girl's school uniforms\", \"girl's pants\", \"women's apparel\", 'kitchen storage & organization', 'golf shop', 'blush', 'kids athletic shoes', 'jewelry boxes & armoires', 'Star Wars', 'face wash for men', 'button-down', 'peasant', 'coats & jackets', 'hoodies & sweaters', 'benches & ottomans', 'home improvement', 'comforters', 'chests & cabinets', 'matching jewelry', '$50 and over boots', 'comfort flats', 'small sizes 5 1/2 & under', 'girls plus', 'wedge boots', 'van heusen', 'three stone rings', 'golf jackets', 'prom dresses', 'all guys pants', 'all extended sizes', 'sale', 'mobile & tablet', 'gold tone jewelry', 'flat front pants', '$24.99 dresses', 'boat shoes', 'groom, groomsmen & fathers', 'fila', \"women's graphic tees\", 'the bijoux bar @ jcp', 'tapout', 'barware + stemware', 'stackable rings', 'girls 4-6x', 'juniors lingerie', 'full figure minimizer bras', \"kid's crafts\", 'face serum & treatments', 'all dress shoes', \"kid's apparel\", 'view all guys underwear & socks', 'dining room chairs', 'view all bedding', 'outdoor curtains & shades', 'view all luggage', 'running', 'the essential shop', 'designer pick 2', 'a.n.a.', 'basic t-shirts', 'cutlery & cutting boards', 'view all coats', 'izod', 'dinnerware', 'christmas bedding & bath', 'view all diamond jewelry', 'spa tools', 'view all panties', 'casual boots', 'sporting goods & outdoor play', 'essentials', 'shirts', 'coats', 'diamond rings', 'sandals $20-$30', 'all boots', 'view all golf apparel', 'skinny', 'inspirational jewelry', \"baby's swimwear\", 'clocks & mirrors', 'loungewear', 'makeup brush sets', \"junior's graphic tees\", 'robby len', 'boys', 'fashion', 'kitchen packages', 'coats + jackets', 'media seating', 'patio furniture', 'ankle, crops & capris', \"girls' graphic tees\", 'work shoes', 'trendy tops', \"kids' jewelry\", 'view all big & tall underwear & socks', 'fourth of july', \"women's coats & jackets\", 'evening and cocktail dresses', 'dresses & dress clothes', 'graduation', 'vanity fair', 'trendy  tops', 'kids & teens bath', \"new year's eve dresses\", 'housewarming', 'zoo york', 'personal care', 'casual', 'aris by treska', '$9.99 select items', 'pretend play', 'pants and joggers', 'boyfriend', 'clutches & evening bags', 'lee', 'pattern', 'benches', 'night creams', 'blankets & throws', 'colored diamonds', 'bath towels', 'christmas tabletop', 'tuxedos & formal wear', 'pants & capris', 'girls shoes', 'view all accessories', \"oshkosh b'gosh\", 'arizona', 'closeouts', 'bonus pack socks', 'for juniors', 'for the home', 'the wedding shop', 'bras & panties', 'under $20 boots', 'kids & teens bedding', 'trendy collections', 'hardware', 'petite', 'hardside luggage', 'sandals $30-$40', 'akademiks', 'nautical', 'Stafford pajamas, robes, & slippers', 'tag free underwear', 'new balance', 'sheath dresses', 'modern fit', 'kids watches', 'jewelry & watches', 'dresses & skirts', 'stuffed animals', \"guy's coats & jackets\"}\n"
          ]
        }
      ],
      "source": [
        "# Put your code and comments here     \n",
        "category_list = []\n",
        "for i in range(0, len(products_dict)):\n",
        "  category_list.append(products_dict[i]['category'])\n",
        "print(set(category_list))\n"
      ]
    },
    {
      "cell_type": "code",
      "source": [
        "products_dict[79]['category']"
      ],
      "metadata": {
        "colab": {
          "base_uri": "https://localhost:8080/",
          "height": 35
        },
        "id": "V0H51h8EbMLS",
        "outputId": "0123d5f2-85a7-4b9d-9a88-b318891366dd"
      },
      "execution_count": null,
      "outputs": [
        {
          "output_type": "execute_result",
          "data": {
            "text/plain": [
              "'azul'"
            ],
            "application/vnd.google.colaboratory.intrinsic+json": {
              "type": "string"
            }
          },
          "metadata": {},
          "execution_count": 35
        }
      ]
    },
    {
      "cell_type": "markdown",
      "metadata": {
        "id": "h6qBoSA9ZB7G"
      },
      "source": [
        "# 14) Read the csv files into a Data Frame\n",
        "\n",
        "Read the three csv files:\n",
        "\n",
        "- products.csv\n",
        "- reviews.csv\n",
        "- users.csv\n",
        "\n",
        "into data frames called `products_pd`, `reviews_pd` and `users_pd`. Note that they all have a header row with field names.\n",
        "\n",
        "Print the first 3 lines of each."
      ]
    },
    {
      "cell_type": "code",
      "execution_count": null,
      "metadata": {
        "id": "CFtnJG-MZB7G"
      },
      "outputs": [],
      "source": [
        "# Put your code and comments here\n",
        "products_pd = pd.read_csv('products.csv')\n",
        "reviews_pd = pd.read_csv('reviews.csv')\n",
        "users_pd = pd.read_csv('users.csv')"
      ]
    },
    {
      "cell_type": "code",
      "source": [
        "products_pd.head(3)"
      ],
      "metadata": {
        "colab": {
          "base_uri": "https://localhost:8080/",
          "height": 143
        },
        "id": "tTgyAglIYUuK",
        "outputId": "2cf41a37-3b8b-400b-b302-13f2a06424fd"
      },
      "execution_count": null,
      "outputs": [
        {
          "output_type": "execute_result",
          "data": {
            "text/plain": [
              "                            Uniq_id           SKU  \\\n",
              "0  b6c0b6bea69c722939585baeac73c13d  pp5006380337   \n",
              "1  93e5272c51d8cce02597e3ce67b7ad0a  pp5006380337   \n",
              "2  013e320f2f2ec0cf5b3ff5418d688528  pp5006380337   \n",
              "\n",
              "                                          Name  \\\n",
              "0  Alfred Dunner® Essential Pull On Capri Pant   \n",
              "1  Alfred Dunner® Essential Pull On Capri Pant   \n",
              "2  Alfred Dunner® Essential Pull On Capri Pant   \n",
              "\n",
              "                                         Description  Price  Av_Score  \n",
              "0  Youll return to our Alfred Dunner pull-on capr...  41.09     2.625  \n",
              "1  Youll return to our Alfred Dunner pull-on capr...  41.09     3.000  \n",
              "2  Youll return to our Alfred Dunner pull-on capr...  41.09     2.625  "
            ],
            "text/html": [
              "\n",
              "  <div id=\"df-27d7e221-059c-4d28-8f5e-8bea7b33628c\">\n",
              "    <div class=\"colab-df-container\">\n",
              "      <div>\n",
              "<style scoped>\n",
              "    .dataframe tbody tr th:only-of-type {\n",
              "        vertical-align: middle;\n",
              "    }\n",
              "\n",
              "    .dataframe tbody tr th {\n",
              "        vertical-align: top;\n",
              "    }\n",
              "\n",
              "    .dataframe thead th {\n",
              "        text-align: right;\n",
              "    }\n",
              "</style>\n",
              "<table border=\"1\" class=\"dataframe\">\n",
              "  <thead>\n",
              "    <tr style=\"text-align: right;\">\n",
              "      <th></th>\n",
              "      <th>Uniq_id</th>\n",
              "      <th>SKU</th>\n",
              "      <th>Name</th>\n",
              "      <th>Description</th>\n",
              "      <th>Price</th>\n",
              "      <th>Av_Score</th>\n",
              "    </tr>\n",
              "  </thead>\n",
              "  <tbody>\n",
              "    <tr>\n",
              "      <th>0</th>\n",
              "      <td>b6c0b6bea69c722939585baeac73c13d</td>\n",
              "      <td>pp5006380337</td>\n",
              "      <td>Alfred Dunner® Essential Pull On Capri Pant</td>\n",
              "      <td>Youll return to our Alfred Dunner pull-on capr...</td>\n",
              "      <td>41.09</td>\n",
              "      <td>2.625</td>\n",
              "    </tr>\n",
              "    <tr>\n",
              "      <th>1</th>\n",
              "      <td>93e5272c51d8cce02597e3ce67b7ad0a</td>\n",
              "      <td>pp5006380337</td>\n",
              "      <td>Alfred Dunner® Essential Pull On Capri Pant</td>\n",
              "      <td>Youll return to our Alfred Dunner pull-on capr...</td>\n",
              "      <td>41.09</td>\n",
              "      <td>3.000</td>\n",
              "    </tr>\n",
              "    <tr>\n",
              "      <th>2</th>\n",
              "      <td>013e320f2f2ec0cf5b3ff5418d688528</td>\n",
              "      <td>pp5006380337</td>\n",
              "      <td>Alfred Dunner® Essential Pull On Capri Pant</td>\n",
              "      <td>Youll return to our Alfred Dunner pull-on capr...</td>\n",
              "      <td>41.09</td>\n",
              "      <td>2.625</td>\n",
              "    </tr>\n",
              "  </tbody>\n",
              "</table>\n",
              "</div>\n",
              "      <button class=\"colab-df-convert\" onclick=\"convertToInteractive('df-27d7e221-059c-4d28-8f5e-8bea7b33628c')\"\n",
              "              title=\"Convert this dataframe to an interactive table.\"\n",
              "              style=\"display:none;\">\n",
              "        \n",
              "  <svg xmlns=\"http://www.w3.org/2000/svg\" height=\"24px\"viewBox=\"0 0 24 24\"\n",
              "       width=\"24px\">\n",
              "    <path d=\"M0 0h24v24H0V0z\" fill=\"none\"/>\n",
              "    <path d=\"M18.56 5.44l.94 2.06.94-2.06 2.06-.94-2.06-.94-.94-2.06-.94 2.06-2.06.94zm-11 1L8.5 8.5l.94-2.06 2.06-.94-2.06-.94L8.5 2.5l-.94 2.06-2.06.94zm10 10l.94 2.06.94-2.06 2.06-.94-2.06-.94-.94-2.06-.94 2.06-2.06.94z\"/><path d=\"M17.41 7.96l-1.37-1.37c-.4-.4-.92-.59-1.43-.59-.52 0-1.04.2-1.43.59L10.3 9.45l-7.72 7.72c-.78.78-.78 2.05 0 2.83L4 21.41c.39.39.9.59 1.41.59.51 0 1.02-.2 1.41-.59l7.78-7.78 2.81-2.81c.8-.78.8-2.07 0-2.86zM5.41 20L4 18.59l7.72-7.72 1.47 1.35L5.41 20z\"/>\n",
              "  </svg>\n",
              "      </button>\n",
              "      \n",
              "  <style>\n",
              "    .colab-df-container {\n",
              "      display:flex;\n",
              "      flex-wrap:wrap;\n",
              "      gap: 12px;\n",
              "    }\n",
              "\n",
              "    .colab-df-convert {\n",
              "      background-color: #E8F0FE;\n",
              "      border: none;\n",
              "      border-radius: 50%;\n",
              "      cursor: pointer;\n",
              "      display: none;\n",
              "      fill: #1967D2;\n",
              "      height: 32px;\n",
              "      padding: 0 0 0 0;\n",
              "      width: 32px;\n",
              "    }\n",
              "\n",
              "    .colab-df-convert:hover {\n",
              "      background-color: #E2EBFA;\n",
              "      box-shadow: 0px 1px 2px rgba(60, 64, 67, 0.3), 0px 1px 3px 1px rgba(60, 64, 67, 0.15);\n",
              "      fill: #174EA6;\n",
              "    }\n",
              "\n",
              "    [theme=dark] .colab-df-convert {\n",
              "      background-color: #3B4455;\n",
              "      fill: #D2E3FC;\n",
              "    }\n",
              "\n",
              "    [theme=dark] .colab-df-convert:hover {\n",
              "      background-color: #434B5C;\n",
              "      box-shadow: 0px 1px 3px 1px rgba(0, 0, 0, 0.15);\n",
              "      filter: drop-shadow(0px 1px 2px rgba(0, 0, 0, 0.3));\n",
              "      fill: #FFFFFF;\n",
              "    }\n",
              "  </style>\n",
              "\n",
              "      <script>\n",
              "        const buttonEl =\n",
              "          document.querySelector('#df-27d7e221-059c-4d28-8f5e-8bea7b33628c button.colab-df-convert');\n",
              "        buttonEl.style.display =\n",
              "          google.colab.kernel.accessAllowed ? 'block' : 'none';\n",
              "\n",
              "        async function convertToInteractive(key) {\n",
              "          const element = document.querySelector('#df-27d7e221-059c-4d28-8f5e-8bea7b33628c');\n",
              "          const dataTable =\n",
              "            await google.colab.kernel.invokeFunction('convertToInteractive',\n",
              "                                                     [key], {});\n",
              "          if (!dataTable) return;\n",
              "\n",
              "          const docLinkHtml = 'Like what you see? Visit the ' +\n",
              "            '<a target=\"_blank\" href=https://colab.research.google.com/notebooks/data_table.ipynb>data table notebook</a>'\n",
              "            + ' to learn more about interactive tables.';\n",
              "          element.innerHTML = '';\n",
              "          dataTable['output_type'] = 'display_data';\n",
              "          await google.colab.output.renderOutput(dataTable, element);\n",
              "          const docLink = document.createElement('div');\n",
              "          docLink.innerHTML = docLinkHtml;\n",
              "          element.appendChild(docLink);\n",
              "        }\n",
              "      </script>\n",
              "    </div>\n",
              "  </div>\n",
              "  "
            ]
          },
          "metadata": {},
          "execution_count": 26
        }
      ]
    },
    {
      "cell_type": "code",
      "source": [
        "users_pd.head(3)"
      ],
      "metadata": {
        "colab": {
          "base_uri": "https://localhost:8080/",
          "height": 143
        },
        "id": "DjcJzHMcYZmV",
        "outputId": "3b3fbf9b-664a-4bab-9e86-761208c92d57"
      },
      "execution_count": null,
      "outputs": [
        {
          "output_type": "execute_result",
          "data": {
            "text/plain": [
              "   Username         DOB          State\n",
              "0  bkpn1412  31.07.1983         Oregon\n",
              "1  gqjs4414  27.07.1998  Massachusetts\n",
              "2  eehe1434  08.08.1950          Idaho"
            ],
            "text/html": [
              "\n",
              "  <div id=\"df-caf1da3d-c8cc-47cc-94a5-cbb7f9d21e5f\">\n",
              "    <div class=\"colab-df-container\">\n",
              "      <div>\n",
              "<style scoped>\n",
              "    .dataframe tbody tr th:only-of-type {\n",
              "        vertical-align: middle;\n",
              "    }\n",
              "\n",
              "    .dataframe tbody tr th {\n",
              "        vertical-align: top;\n",
              "    }\n",
              "\n",
              "    .dataframe thead th {\n",
              "        text-align: right;\n",
              "    }\n",
              "</style>\n",
              "<table border=\"1\" class=\"dataframe\">\n",
              "  <thead>\n",
              "    <tr style=\"text-align: right;\">\n",
              "      <th></th>\n",
              "      <th>Username</th>\n",
              "      <th>DOB</th>\n",
              "      <th>State</th>\n",
              "    </tr>\n",
              "  </thead>\n",
              "  <tbody>\n",
              "    <tr>\n",
              "      <th>0</th>\n",
              "      <td>bkpn1412</td>\n",
              "      <td>31.07.1983</td>\n",
              "      <td>Oregon</td>\n",
              "    </tr>\n",
              "    <tr>\n",
              "      <th>1</th>\n",
              "      <td>gqjs4414</td>\n",
              "      <td>27.07.1998</td>\n",
              "      <td>Massachusetts</td>\n",
              "    </tr>\n",
              "    <tr>\n",
              "      <th>2</th>\n",
              "      <td>eehe1434</td>\n",
              "      <td>08.08.1950</td>\n",
              "      <td>Idaho</td>\n",
              "    </tr>\n",
              "  </tbody>\n",
              "</table>\n",
              "</div>\n",
              "      <button class=\"colab-df-convert\" onclick=\"convertToInteractive('df-caf1da3d-c8cc-47cc-94a5-cbb7f9d21e5f')\"\n",
              "              title=\"Convert this dataframe to an interactive table.\"\n",
              "              style=\"display:none;\">\n",
              "        \n",
              "  <svg xmlns=\"http://www.w3.org/2000/svg\" height=\"24px\"viewBox=\"0 0 24 24\"\n",
              "       width=\"24px\">\n",
              "    <path d=\"M0 0h24v24H0V0z\" fill=\"none\"/>\n",
              "    <path d=\"M18.56 5.44l.94 2.06.94-2.06 2.06-.94-2.06-.94-.94-2.06-.94 2.06-2.06.94zm-11 1L8.5 8.5l.94-2.06 2.06-.94-2.06-.94L8.5 2.5l-.94 2.06-2.06.94zm10 10l.94 2.06.94-2.06 2.06-.94-2.06-.94-.94-2.06-.94 2.06-2.06.94z\"/><path d=\"M17.41 7.96l-1.37-1.37c-.4-.4-.92-.59-1.43-.59-.52 0-1.04.2-1.43.59L10.3 9.45l-7.72 7.72c-.78.78-.78 2.05 0 2.83L4 21.41c.39.39.9.59 1.41.59.51 0 1.02-.2 1.41-.59l7.78-7.78 2.81-2.81c.8-.78.8-2.07 0-2.86zM5.41 20L4 18.59l7.72-7.72 1.47 1.35L5.41 20z\"/>\n",
              "  </svg>\n",
              "      </button>\n",
              "      \n",
              "  <style>\n",
              "    .colab-df-container {\n",
              "      display:flex;\n",
              "      flex-wrap:wrap;\n",
              "      gap: 12px;\n",
              "    }\n",
              "\n",
              "    .colab-df-convert {\n",
              "      background-color: #E8F0FE;\n",
              "      border: none;\n",
              "      border-radius: 50%;\n",
              "      cursor: pointer;\n",
              "      display: none;\n",
              "      fill: #1967D2;\n",
              "      height: 32px;\n",
              "      padding: 0 0 0 0;\n",
              "      width: 32px;\n",
              "    }\n",
              "\n",
              "    .colab-df-convert:hover {\n",
              "      background-color: #E2EBFA;\n",
              "      box-shadow: 0px 1px 2px rgba(60, 64, 67, 0.3), 0px 1px 3px 1px rgba(60, 64, 67, 0.15);\n",
              "      fill: #174EA6;\n",
              "    }\n",
              "\n",
              "    [theme=dark] .colab-df-convert {\n",
              "      background-color: #3B4455;\n",
              "      fill: #D2E3FC;\n",
              "    }\n",
              "\n",
              "    [theme=dark] .colab-df-convert:hover {\n",
              "      background-color: #434B5C;\n",
              "      box-shadow: 0px 1px 3px 1px rgba(0, 0, 0, 0.15);\n",
              "      filter: drop-shadow(0px 1px 2px rgba(0, 0, 0, 0.3));\n",
              "      fill: #FFFFFF;\n",
              "    }\n",
              "  </style>\n",
              "\n",
              "      <script>\n",
              "        const buttonEl =\n",
              "          document.querySelector('#df-caf1da3d-c8cc-47cc-94a5-cbb7f9d21e5f button.colab-df-convert');\n",
              "        buttonEl.style.display =\n",
              "          google.colab.kernel.accessAllowed ? 'block' : 'none';\n",
              "\n",
              "        async function convertToInteractive(key) {\n",
              "          const element = document.querySelector('#df-caf1da3d-c8cc-47cc-94a5-cbb7f9d21e5f');\n",
              "          const dataTable =\n",
              "            await google.colab.kernel.invokeFunction('convertToInteractive',\n",
              "                                                     [key], {});\n",
              "          if (!dataTable) return;\n",
              "\n",
              "          const docLinkHtml = 'Like what you see? Visit the ' +\n",
              "            '<a target=\"_blank\" href=https://colab.research.google.com/notebooks/data_table.ipynb>data table notebook</a>'\n",
              "            + ' to learn more about interactive tables.';\n",
              "          element.innerHTML = '';\n",
              "          dataTable['output_type'] = 'display_data';\n",
              "          await google.colab.output.renderOutput(dataTable, element);\n",
              "          const docLink = document.createElement('div');\n",
              "          docLink.innerHTML = docLinkHtml;\n",
              "          element.appendChild(docLink);\n",
              "        }\n",
              "      </script>\n",
              "    </div>\n",
              "  </div>\n",
              "  "
            ]
          },
          "metadata": {},
          "execution_count": 27
        }
      ]
    },
    {
      "cell_type": "code",
      "source": [
        "reviews_pd.head(3)"
      ],
      "metadata": {
        "colab": {
          "base_uri": "https://localhost:8080/",
          "height": 143
        },
        "id": "zdaOZt3IYZzx",
        "outputId": "0f55a4c3-d859-444d-c96a-a29aaa56539a"
      },
      "execution_count": null,
      "outputs": [
        {
          "output_type": "execute_result",
          "data": {
            "text/plain": [
              "                            Uniq_id  Username  Score  \\\n",
              "0  b6c0b6bea69c722939585baeac73c13d  fsdv4141      2   \n",
              "1  b6c0b6bea69c722939585baeac73c13d  krpz1113      1   \n",
              "2  b6c0b6bea69c722939585baeac73c13d  mbmg3241      2   \n",
              "\n",
              "                                              Review  \n",
              "0  You never have to worry about the fit...Alfred...  \n",
              "1  Good quality fabric. Perfect fit. Washed very ...  \n",
              "2  I do not normally wear pants or capris that ha...  "
            ],
            "text/html": [
              "\n",
              "  <div id=\"df-caa11574-88d2-424f-834f-0c4ea26ab67e\">\n",
              "    <div class=\"colab-df-container\">\n",
              "      <div>\n",
              "<style scoped>\n",
              "    .dataframe tbody tr th:only-of-type {\n",
              "        vertical-align: middle;\n",
              "    }\n",
              "\n",
              "    .dataframe tbody tr th {\n",
              "        vertical-align: top;\n",
              "    }\n",
              "\n",
              "    .dataframe thead th {\n",
              "        text-align: right;\n",
              "    }\n",
              "</style>\n",
              "<table border=\"1\" class=\"dataframe\">\n",
              "  <thead>\n",
              "    <tr style=\"text-align: right;\">\n",
              "      <th></th>\n",
              "      <th>Uniq_id</th>\n",
              "      <th>Username</th>\n",
              "      <th>Score</th>\n",
              "      <th>Review</th>\n",
              "    </tr>\n",
              "  </thead>\n",
              "  <tbody>\n",
              "    <tr>\n",
              "      <th>0</th>\n",
              "      <td>b6c0b6bea69c722939585baeac73c13d</td>\n",
              "      <td>fsdv4141</td>\n",
              "      <td>2</td>\n",
              "      <td>You never have to worry about the fit...Alfred...</td>\n",
              "    </tr>\n",
              "    <tr>\n",
              "      <th>1</th>\n",
              "      <td>b6c0b6bea69c722939585baeac73c13d</td>\n",
              "      <td>krpz1113</td>\n",
              "      <td>1</td>\n",
              "      <td>Good quality fabric. Perfect fit. Washed very ...</td>\n",
              "    </tr>\n",
              "    <tr>\n",
              "      <th>2</th>\n",
              "      <td>b6c0b6bea69c722939585baeac73c13d</td>\n",
              "      <td>mbmg3241</td>\n",
              "      <td>2</td>\n",
              "      <td>I do not normally wear pants or capris that ha...</td>\n",
              "    </tr>\n",
              "  </tbody>\n",
              "</table>\n",
              "</div>\n",
              "      <button class=\"colab-df-convert\" onclick=\"convertToInteractive('df-caa11574-88d2-424f-834f-0c4ea26ab67e')\"\n",
              "              title=\"Convert this dataframe to an interactive table.\"\n",
              "              style=\"display:none;\">\n",
              "        \n",
              "  <svg xmlns=\"http://www.w3.org/2000/svg\" height=\"24px\"viewBox=\"0 0 24 24\"\n",
              "       width=\"24px\">\n",
              "    <path d=\"M0 0h24v24H0V0z\" fill=\"none\"/>\n",
              "    <path d=\"M18.56 5.44l.94 2.06.94-2.06 2.06-.94-2.06-.94-.94-2.06-.94 2.06-2.06.94zm-11 1L8.5 8.5l.94-2.06 2.06-.94-2.06-.94L8.5 2.5l-.94 2.06-2.06.94zm10 10l.94 2.06.94-2.06 2.06-.94-2.06-.94-.94-2.06-.94 2.06-2.06.94z\"/><path d=\"M17.41 7.96l-1.37-1.37c-.4-.4-.92-.59-1.43-.59-.52 0-1.04.2-1.43.59L10.3 9.45l-7.72 7.72c-.78.78-.78 2.05 0 2.83L4 21.41c.39.39.9.59 1.41.59.51 0 1.02-.2 1.41-.59l7.78-7.78 2.81-2.81c.8-.78.8-2.07 0-2.86zM5.41 20L4 18.59l7.72-7.72 1.47 1.35L5.41 20z\"/>\n",
              "  </svg>\n",
              "      </button>\n",
              "      \n",
              "  <style>\n",
              "    .colab-df-container {\n",
              "      display:flex;\n",
              "      flex-wrap:wrap;\n",
              "      gap: 12px;\n",
              "    }\n",
              "\n",
              "    .colab-df-convert {\n",
              "      background-color: #E8F0FE;\n",
              "      border: none;\n",
              "      border-radius: 50%;\n",
              "      cursor: pointer;\n",
              "      display: none;\n",
              "      fill: #1967D2;\n",
              "      height: 32px;\n",
              "      padding: 0 0 0 0;\n",
              "      width: 32px;\n",
              "    }\n",
              "\n",
              "    .colab-df-convert:hover {\n",
              "      background-color: #E2EBFA;\n",
              "      box-shadow: 0px 1px 2px rgba(60, 64, 67, 0.3), 0px 1px 3px 1px rgba(60, 64, 67, 0.15);\n",
              "      fill: #174EA6;\n",
              "    }\n",
              "\n",
              "    [theme=dark] .colab-df-convert {\n",
              "      background-color: #3B4455;\n",
              "      fill: #D2E3FC;\n",
              "    }\n",
              "\n",
              "    [theme=dark] .colab-df-convert:hover {\n",
              "      background-color: #434B5C;\n",
              "      box-shadow: 0px 1px 3px 1px rgba(0, 0, 0, 0.15);\n",
              "      filter: drop-shadow(0px 1px 2px rgba(0, 0, 0, 0.3));\n",
              "      fill: #FFFFFF;\n",
              "    }\n",
              "  </style>\n",
              "\n",
              "      <script>\n",
              "        const buttonEl =\n",
              "          document.querySelector('#df-caa11574-88d2-424f-834f-0c4ea26ab67e button.colab-df-convert');\n",
              "        buttonEl.style.display =\n",
              "          google.colab.kernel.accessAllowed ? 'block' : 'none';\n",
              "\n",
              "        async function convertToInteractive(key) {\n",
              "          const element = document.querySelector('#df-caa11574-88d2-424f-834f-0c4ea26ab67e');\n",
              "          const dataTable =\n",
              "            await google.colab.kernel.invokeFunction('convertToInteractive',\n",
              "                                                     [key], {});\n",
              "          if (!dataTable) return;\n",
              "\n",
              "          const docLinkHtml = 'Like what you see? Visit the ' +\n",
              "            '<a target=\"_blank\" href=https://colab.research.google.com/notebooks/data_table.ipynb>data table notebook</a>'\n",
              "            + ' to learn more about interactive tables.';\n",
              "          element.innerHTML = '';\n",
              "          dataTable['output_type'] = 'display_data';\n",
              "          await google.colab.output.renderOutput(dataTable, element);\n",
              "          const docLink = document.createElement('div');\n",
              "          docLink.innerHTML = docLinkHtml;\n",
              "          element.appendChild(docLink);\n",
              "        }\n",
              "      </script>\n",
              "    </div>\n",
              "  </div>\n",
              "  "
            ]
          },
          "metadata": {},
          "execution_count": 28
        }
      ]
    },
    {
      "cell_type": "markdown",
      "metadata": {
        "id": "TF9AKTxGZB7G"
      },
      "source": [
        "# 15) Convert the Date of Birth field\n",
        "\n",
        "Convert the DOB field in the users dataframe to a Pandas date object, rather than the string that it currently is stored as.\n",
        "\n",
        "Re-display the top 3 rows of `users_pd`"
      ]
    },
    {
      "cell_type": "code",
      "execution_count": null,
      "metadata": {
        "id": "O8EQYNydZB7H",
        "colab": {
          "base_uri": "https://localhost:8080/",
          "height": 143
        },
        "outputId": "16712872-8f84-4f09-d0e0-9927e975f3b3"
      },
      "outputs": [
        {
          "output_type": "execute_result",
          "data": {
            "text/plain": [
              "   Username        DOB          State\n",
              "0  bkpn1412 1983-07-31         Oregon\n",
              "1  gqjs4414 1998-07-27  Massachusetts\n",
              "2  eehe1434 1950-08-08          Idaho"
            ],
            "text/html": [
              "\n",
              "  <div id=\"df-6996c5c1-8054-4489-92d3-66d0267cd7fb\">\n",
              "    <div class=\"colab-df-container\">\n",
              "      <div>\n",
              "<style scoped>\n",
              "    .dataframe tbody tr th:only-of-type {\n",
              "        vertical-align: middle;\n",
              "    }\n",
              "\n",
              "    .dataframe tbody tr th {\n",
              "        vertical-align: top;\n",
              "    }\n",
              "\n",
              "    .dataframe thead th {\n",
              "        text-align: right;\n",
              "    }\n",
              "</style>\n",
              "<table border=\"1\" class=\"dataframe\">\n",
              "  <thead>\n",
              "    <tr style=\"text-align: right;\">\n",
              "      <th></th>\n",
              "      <th>Username</th>\n",
              "      <th>DOB</th>\n",
              "      <th>State</th>\n",
              "    </tr>\n",
              "  </thead>\n",
              "  <tbody>\n",
              "    <tr>\n",
              "      <th>0</th>\n",
              "      <td>bkpn1412</td>\n",
              "      <td>1983-07-31</td>\n",
              "      <td>Oregon</td>\n",
              "    </tr>\n",
              "    <tr>\n",
              "      <th>1</th>\n",
              "      <td>gqjs4414</td>\n",
              "      <td>1998-07-27</td>\n",
              "      <td>Massachusetts</td>\n",
              "    </tr>\n",
              "    <tr>\n",
              "      <th>2</th>\n",
              "      <td>eehe1434</td>\n",
              "      <td>1950-08-08</td>\n",
              "      <td>Idaho</td>\n",
              "    </tr>\n",
              "  </tbody>\n",
              "</table>\n",
              "</div>\n",
              "      <button class=\"colab-df-convert\" onclick=\"convertToInteractive('df-6996c5c1-8054-4489-92d3-66d0267cd7fb')\"\n",
              "              title=\"Convert this dataframe to an interactive table.\"\n",
              "              style=\"display:none;\">\n",
              "        \n",
              "  <svg xmlns=\"http://www.w3.org/2000/svg\" height=\"24px\"viewBox=\"0 0 24 24\"\n",
              "       width=\"24px\">\n",
              "    <path d=\"M0 0h24v24H0V0z\" fill=\"none\"/>\n",
              "    <path d=\"M18.56 5.44l.94 2.06.94-2.06 2.06-.94-2.06-.94-.94-2.06-.94 2.06-2.06.94zm-11 1L8.5 8.5l.94-2.06 2.06-.94-2.06-.94L8.5 2.5l-.94 2.06-2.06.94zm10 10l.94 2.06.94-2.06 2.06-.94-2.06-.94-.94-2.06-.94 2.06-2.06.94z\"/><path d=\"M17.41 7.96l-1.37-1.37c-.4-.4-.92-.59-1.43-.59-.52 0-1.04.2-1.43.59L10.3 9.45l-7.72 7.72c-.78.78-.78 2.05 0 2.83L4 21.41c.39.39.9.59 1.41.59.51 0 1.02-.2 1.41-.59l7.78-7.78 2.81-2.81c.8-.78.8-2.07 0-2.86zM5.41 20L4 18.59l7.72-7.72 1.47 1.35L5.41 20z\"/>\n",
              "  </svg>\n",
              "      </button>\n",
              "      \n",
              "  <style>\n",
              "    .colab-df-container {\n",
              "      display:flex;\n",
              "      flex-wrap:wrap;\n",
              "      gap: 12px;\n",
              "    }\n",
              "\n",
              "    .colab-df-convert {\n",
              "      background-color: #E8F0FE;\n",
              "      border: none;\n",
              "      border-radius: 50%;\n",
              "      cursor: pointer;\n",
              "      display: none;\n",
              "      fill: #1967D2;\n",
              "      height: 32px;\n",
              "      padding: 0 0 0 0;\n",
              "      width: 32px;\n",
              "    }\n",
              "\n",
              "    .colab-df-convert:hover {\n",
              "      background-color: #E2EBFA;\n",
              "      box-shadow: 0px 1px 2px rgba(60, 64, 67, 0.3), 0px 1px 3px 1px rgba(60, 64, 67, 0.15);\n",
              "      fill: #174EA6;\n",
              "    }\n",
              "\n",
              "    [theme=dark] .colab-df-convert {\n",
              "      background-color: #3B4455;\n",
              "      fill: #D2E3FC;\n",
              "    }\n",
              "\n",
              "    [theme=dark] .colab-df-convert:hover {\n",
              "      background-color: #434B5C;\n",
              "      box-shadow: 0px 1px 3px 1px rgba(0, 0, 0, 0.15);\n",
              "      filter: drop-shadow(0px 1px 2px rgba(0, 0, 0, 0.3));\n",
              "      fill: #FFFFFF;\n",
              "    }\n",
              "  </style>\n",
              "\n",
              "      <script>\n",
              "        const buttonEl =\n",
              "          document.querySelector('#df-6996c5c1-8054-4489-92d3-66d0267cd7fb button.colab-df-convert');\n",
              "        buttonEl.style.display =\n",
              "          google.colab.kernel.accessAllowed ? 'block' : 'none';\n",
              "\n",
              "        async function convertToInteractive(key) {\n",
              "          const element = document.querySelector('#df-6996c5c1-8054-4489-92d3-66d0267cd7fb');\n",
              "          const dataTable =\n",
              "            await google.colab.kernel.invokeFunction('convertToInteractive',\n",
              "                                                     [key], {});\n",
              "          if (!dataTable) return;\n",
              "\n",
              "          const docLinkHtml = 'Like what you see? Visit the ' +\n",
              "            '<a target=\"_blank\" href=https://colab.research.google.com/notebooks/data_table.ipynb>data table notebook</a>'\n",
              "            + ' to learn more about interactive tables.';\n",
              "          element.innerHTML = '';\n",
              "          dataTable['output_type'] = 'display_data';\n",
              "          await google.colab.output.renderOutput(dataTable, element);\n",
              "          const docLink = document.createElement('div');\n",
              "          docLink.innerHTML = docLinkHtml;\n",
              "          element.appendChild(docLink);\n",
              "        }\n",
              "      </script>\n",
              "    </div>\n",
              "  </div>\n",
              "  "
            ]
          },
          "metadata": {},
          "execution_count": 29
        }
      ],
      "source": [
        "# Put your code and comments here\n",
        "users_pd['DOB'] = pd.to_datetime(users_pd['DOB'])\n",
        "users_pd.head(3)"
      ]
    },
    {
      "cell_type": "code",
      "source": [
        "users_pd.head(3)"
      ],
      "metadata": {
        "colab": {
          "base_uri": "https://localhost:8080/",
          "height": 143
        },
        "id": "Rk6bA_wzaC0q",
        "outputId": "92a7a804-7311-466d-e992-563d8a606221"
      },
      "execution_count": null,
      "outputs": [
        {
          "output_type": "execute_result",
          "data": {
            "text/plain": [
              "   Username        DOB          State\n",
              "0  bkpn1412 1983-07-31         Oregon\n",
              "1  gqjs4414 1998-07-27  Massachusetts\n",
              "2  eehe1434 1950-08-08          Idaho"
            ],
            "text/html": [
              "\n",
              "  <div id=\"df-84caf37f-f7fa-4f7f-80c8-0eb49e32fe2d\">\n",
              "    <div class=\"colab-df-container\">\n",
              "      <div>\n",
              "<style scoped>\n",
              "    .dataframe tbody tr th:only-of-type {\n",
              "        vertical-align: middle;\n",
              "    }\n",
              "\n",
              "    .dataframe tbody tr th {\n",
              "        vertical-align: top;\n",
              "    }\n",
              "\n",
              "    .dataframe thead th {\n",
              "        text-align: right;\n",
              "    }\n",
              "</style>\n",
              "<table border=\"1\" class=\"dataframe\">\n",
              "  <thead>\n",
              "    <tr style=\"text-align: right;\">\n",
              "      <th></th>\n",
              "      <th>Username</th>\n",
              "      <th>DOB</th>\n",
              "      <th>State</th>\n",
              "    </tr>\n",
              "  </thead>\n",
              "  <tbody>\n",
              "    <tr>\n",
              "      <th>0</th>\n",
              "      <td>bkpn1412</td>\n",
              "      <td>1983-07-31</td>\n",
              "      <td>Oregon</td>\n",
              "    </tr>\n",
              "    <tr>\n",
              "      <th>1</th>\n",
              "      <td>gqjs4414</td>\n",
              "      <td>1998-07-27</td>\n",
              "      <td>Massachusetts</td>\n",
              "    </tr>\n",
              "    <tr>\n",
              "      <th>2</th>\n",
              "      <td>eehe1434</td>\n",
              "      <td>1950-08-08</td>\n",
              "      <td>Idaho</td>\n",
              "    </tr>\n",
              "  </tbody>\n",
              "</table>\n",
              "</div>\n",
              "      <button class=\"colab-df-convert\" onclick=\"convertToInteractive('df-84caf37f-f7fa-4f7f-80c8-0eb49e32fe2d')\"\n",
              "              title=\"Convert this dataframe to an interactive table.\"\n",
              "              style=\"display:none;\">\n",
              "        \n",
              "  <svg xmlns=\"http://www.w3.org/2000/svg\" height=\"24px\"viewBox=\"0 0 24 24\"\n",
              "       width=\"24px\">\n",
              "    <path d=\"M0 0h24v24H0V0z\" fill=\"none\"/>\n",
              "    <path d=\"M18.56 5.44l.94 2.06.94-2.06 2.06-.94-2.06-.94-.94-2.06-.94 2.06-2.06.94zm-11 1L8.5 8.5l.94-2.06 2.06-.94-2.06-.94L8.5 2.5l-.94 2.06-2.06.94zm10 10l.94 2.06.94-2.06 2.06-.94-2.06-.94-.94-2.06-.94 2.06-2.06.94z\"/><path d=\"M17.41 7.96l-1.37-1.37c-.4-.4-.92-.59-1.43-.59-.52 0-1.04.2-1.43.59L10.3 9.45l-7.72 7.72c-.78.78-.78 2.05 0 2.83L4 21.41c.39.39.9.59 1.41.59.51 0 1.02-.2 1.41-.59l7.78-7.78 2.81-2.81c.8-.78.8-2.07 0-2.86zM5.41 20L4 18.59l7.72-7.72 1.47 1.35L5.41 20z\"/>\n",
              "  </svg>\n",
              "      </button>\n",
              "      \n",
              "  <style>\n",
              "    .colab-df-container {\n",
              "      display:flex;\n",
              "      flex-wrap:wrap;\n",
              "      gap: 12px;\n",
              "    }\n",
              "\n",
              "    .colab-df-convert {\n",
              "      background-color: #E8F0FE;\n",
              "      border: none;\n",
              "      border-radius: 50%;\n",
              "      cursor: pointer;\n",
              "      display: none;\n",
              "      fill: #1967D2;\n",
              "      height: 32px;\n",
              "      padding: 0 0 0 0;\n",
              "      width: 32px;\n",
              "    }\n",
              "\n",
              "    .colab-df-convert:hover {\n",
              "      background-color: #E2EBFA;\n",
              "      box-shadow: 0px 1px 2px rgba(60, 64, 67, 0.3), 0px 1px 3px 1px rgba(60, 64, 67, 0.15);\n",
              "      fill: #174EA6;\n",
              "    }\n",
              "\n",
              "    [theme=dark] .colab-df-convert {\n",
              "      background-color: #3B4455;\n",
              "      fill: #D2E3FC;\n",
              "    }\n",
              "\n",
              "    [theme=dark] .colab-df-convert:hover {\n",
              "      background-color: #434B5C;\n",
              "      box-shadow: 0px 1px 3px 1px rgba(0, 0, 0, 0.15);\n",
              "      filter: drop-shadow(0px 1px 2px rgba(0, 0, 0, 0.3));\n",
              "      fill: #FFFFFF;\n",
              "    }\n",
              "  </style>\n",
              "\n",
              "      <script>\n",
              "        const buttonEl =\n",
              "          document.querySelector('#df-84caf37f-f7fa-4f7f-80c8-0eb49e32fe2d button.colab-df-convert');\n",
              "        buttonEl.style.display =\n",
              "          google.colab.kernel.accessAllowed ? 'block' : 'none';\n",
              "\n",
              "        async function convertToInteractive(key) {\n",
              "          const element = document.querySelector('#df-84caf37f-f7fa-4f7f-80c8-0eb49e32fe2d');\n",
              "          const dataTable =\n",
              "            await google.colab.kernel.invokeFunction('convertToInteractive',\n",
              "                                                     [key], {});\n",
              "          if (!dataTable) return;\n",
              "\n",
              "          const docLinkHtml = 'Like what you see? Visit the ' +\n",
              "            '<a target=\"_blank\" href=https://colab.research.google.com/notebooks/data_table.ipynb>data table notebook</a>'\n",
              "            + ' to learn more about interactive tables.';\n",
              "          element.innerHTML = '';\n",
              "          dataTable['output_type'] = 'display_data';\n",
              "          await google.colab.output.renderOutput(dataTable, element);\n",
              "          const docLink = document.createElement('div');\n",
              "          docLink.innerHTML = docLinkHtml;\n",
              "          element.appendChild(docLink);\n",
              "        }\n",
              "      </script>\n",
              "    </div>\n",
              "  </div>\n",
              "  "
            ]
          },
          "metadata": {},
          "execution_count": 30
        }
      ]
    },
    {
      "cell_type": "markdown",
      "metadata": {
        "id": "nCSoNoUhZB7H"
      },
      "source": [
        "# 16) Add a new user age column\n",
        "\n",
        "Add a new column to `users_pd` that is the result of calculating their age today. Call the column `Age`"
      ]
    },
    {
      "cell_type": "code",
      "execution_count": null,
      "metadata": {
        "scrolled": true,
        "id": "oLXLPyEXZB7H",
        "colab": {
          "base_uri": "https://localhost:8080/",
          "height": 143
        },
        "outputId": "6ac92b1c-90ff-408a-9ddd-47c3a62f2069"
      },
      "outputs": [
        {
          "output_type": "execute_result",
          "data": {
            "text/plain": [
              "   Username        DOB          State   Age\n",
              "0  bkpn1412 1983-07-31         Oregon  38.0\n",
              "1  gqjs4414 1998-07-27  Massachusetts  23.0\n",
              "2  eehe1434 1950-08-08          Idaho  71.0"
            ],
            "text/html": [
              "\n",
              "  <div id=\"df-99decaae-5811-495c-9f8a-4f62b6c53351\">\n",
              "    <div class=\"colab-df-container\">\n",
              "      <div>\n",
              "<style scoped>\n",
              "    .dataframe tbody tr th:only-of-type {\n",
              "        vertical-align: middle;\n",
              "    }\n",
              "\n",
              "    .dataframe tbody tr th {\n",
              "        vertical-align: top;\n",
              "    }\n",
              "\n",
              "    .dataframe thead th {\n",
              "        text-align: right;\n",
              "    }\n",
              "</style>\n",
              "<table border=\"1\" class=\"dataframe\">\n",
              "  <thead>\n",
              "    <tr style=\"text-align: right;\">\n",
              "      <th></th>\n",
              "      <th>Username</th>\n",
              "      <th>DOB</th>\n",
              "      <th>State</th>\n",
              "      <th>Age</th>\n",
              "    </tr>\n",
              "  </thead>\n",
              "  <tbody>\n",
              "    <tr>\n",
              "      <th>0</th>\n",
              "      <td>bkpn1412</td>\n",
              "      <td>1983-07-31</td>\n",
              "      <td>Oregon</td>\n",
              "      <td>38.0</td>\n",
              "    </tr>\n",
              "    <tr>\n",
              "      <th>1</th>\n",
              "      <td>gqjs4414</td>\n",
              "      <td>1998-07-27</td>\n",
              "      <td>Massachusetts</td>\n",
              "      <td>23.0</td>\n",
              "    </tr>\n",
              "    <tr>\n",
              "      <th>2</th>\n",
              "      <td>eehe1434</td>\n",
              "      <td>1950-08-08</td>\n",
              "      <td>Idaho</td>\n",
              "      <td>71.0</td>\n",
              "    </tr>\n",
              "  </tbody>\n",
              "</table>\n",
              "</div>\n",
              "      <button class=\"colab-df-convert\" onclick=\"convertToInteractive('df-99decaae-5811-495c-9f8a-4f62b6c53351')\"\n",
              "              title=\"Convert this dataframe to an interactive table.\"\n",
              "              style=\"display:none;\">\n",
              "        \n",
              "  <svg xmlns=\"http://www.w3.org/2000/svg\" height=\"24px\"viewBox=\"0 0 24 24\"\n",
              "       width=\"24px\">\n",
              "    <path d=\"M0 0h24v24H0V0z\" fill=\"none\"/>\n",
              "    <path d=\"M18.56 5.44l.94 2.06.94-2.06 2.06-.94-2.06-.94-.94-2.06-.94 2.06-2.06.94zm-11 1L8.5 8.5l.94-2.06 2.06-.94-2.06-.94L8.5 2.5l-.94 2.06-2.06.94zm10 10l.94 2.06.94-2.06 2.06-.94-2.06-.94-.94-2.06-.94 2.06-2.06.94z\"/><path d=\"M17.41 7.96l-1.37-1.37c-.4-.4-.92-.59-1.43-.59-.52 0-1.04.2-1.43.59L10.3 9.45l-7.72 7.72c-.78.78-.78 2.05 0 2.83L4 21.41c.39.39.9.59 1.41.59.51 0 1.02-.2 1.41-.59l7.78-7.78 2.81-2.81c.8-.78.8-2.07 0-2.86zM5.41 20L4 18.59l7.72-7.72 1.47 1.35L5.41 20z\"/>\n",
              "  </svg>\n",
              "      </button>\n",
              "      \n",
              "  <style>\n",
              "    .colab-df-container {\n",
              "      display:flex;\n",
              "      flex-wrap:wrap;\n",
              "      gap: 12px;\n",
              "    }\n",
              "\n",
              "    .colab-df-convert {\n",
              "      background-color: #E8F0FE;\n",
              "      border: none;\n",
              "      border-radius: 50%;\n",
              "      cursor: pointer;\n",
              "      display: none;\n",
              "      fill: #1967D2;\n",
              "      height: 32px;\n",
              "      padding: 0 0 0 0;\n",
              "      width: 32px;\n",
              "    }\n",
              "\n",
              "    .colab-df-convert:hover {\n",
              "      background-color: #E2EBFA;\n",
              "      box-shadow: 0px 1px 2px rgba(60, 64, 67, 0.3), 0px 1px 3px 1px rgba(60, 64, 67, 0.15);\n",
              "      fill: #174EA6;\n",
              "    }\n",
              "\n",
              "    [theme=dark] .colab-df-convert {\n",
              "      background-color: #3B4455;\n",
              "      fill: #D2E3FC;\n",
              "    }\n",
              "\n",
              "    [theme=dark] .colab-df-convert:hover {\n",
              "      background-color: #434B5C;\n",
              "      box-shadow: 0px 1px 3px 1px rgba(0, 0, 0, 0.15);\n",
              "      filter: drop-shadow(0px 1px 2px rgba(0, 0, 0, 0.3));\n",
              "      fill: #FFFFFF;\n",
              "    }\n",
              "  </style>\n",
              "\n",
              "      <script>\n",
              "        const buttonEl =\n",
              "          document.querySelector('#df-99decaae-5811-495c-9f8a-4f62b6c53351 button.colab-df-convert');\n",
              "        buttonEl.style.display =\n",
              "          google.colab.kernel.accessAllowed ? 'block' : 'none';\n",
              "\n",
              "        async function convertToInteractive(key) {\n",
              "          const element = document.querySelector('#df-99decaae-5811-495c-9f8a-4f62b6c53351');\n",
              "          const dataTable =\n",
              "            await google.colab.kernel.invokeFunction('convertToInteractive',\n",
              "                                                     [key], {});\n",
              "          if (!dataTable) return;\n",
              "\n",
              "          const docLinkHtml = 'Like what you see? Visit the ' +\n",
              "            '<a target=\"_blank\" href=https://colab.research.google.com/notebooks/data_table.ipynb>data table notebook</a>'\n",
              "            + ' to learn more about interactive tables.';\n",
              "          element.innerHTML = '';\n",
              "          dataTable['output_type'] = 'display_data';\n",
              "          await google.colab.output.renderOutput(dataTable, element);\n",
              "          const docLink = document.createElement('div');\n",
              "          docLink.innerHTML = docLinkHtml;\n",
              "          element.appendChild(docLink);\n",
              "        }\n",
              "      </script>\n",
              "    </div>\n",
              "  </div>\n",
              "  "
            ]
          },
          "metadata": {},
          "execution_count": 31
        }
      ],
      "source": [
        "# Put your code and comments here\n",
        "import datetime as dt\n",
        "from datetime import datetime, date\n",
        "now = pd.Timestamp('now')\n",
        "users_pd['DOB'] = users_pd['DOB'].where(users_pd['DOB'] < now, users_pd['DOB'] -  np.timedelta64(100, 'Y'))   \n",
        "users_pd['Age'] = (now - users_pd['DOB']).astype('<m8[Y]')    \n",
        "users_pd.head(3)\n",
        "  \n",
        "\n"
      ]
    },
    {
      "cell_type": "markdown",
      "metadata": {
        "id": "KJZDfawqZB7H"
      },
      "source": [
        "# 17) Display the reviews for a t-shirt\n",
        "\n",
        "Find all the reviews for the product with the unique id of `b28e5508c1b0022f47ae8c6f92c4cb6c`.\n",
        "\n",
        "Display only the Username of the person who gave the review, the name of the product and the review text itself. There are three reviews for this product.\n"
      ]
    },
    {
      "cell_type": "code",
      "execution_count": null,
      "metadata": {
        "id": "gcZZLYmqZB7H",
        "colab": {
          "base_uri": "https://localhost:8080/",
          "height": 239
        },
        "outputId": "e8c7b958-a5d4-4575-a200-96bae9df32f7"
      },
      "outputs": [
        {
          "output_type": "execute_result",
          "data": {
            "text/plain": [
              "                            Uniq_id  Username  Score  \\\n",
              "0  b6c0b6bea69c722939585baeac73c13d  fsdv4141      2   \n",
              "1  b6c0b6bea69c722939585baeac73c13d  krpz1113      1   \n",
              "2  b6c0b6bea69c722939585baeac73c13d  mbmg3241      2   \n",
              "\n",
              "                                              Review           SKU  \\\n",
              "0  You never have to worry about the fit...Alfred...  pp5006380337   \n",
              "1  Good quality fabric. Perfect fit. Washed very ...  pp5006380337   \n",
              "2  I do not normally wear pants or capris that ha...  pp5006380337   \n",
              "\n",
              "                                          Name  \\\n",
              "0  Alfred Dunner® Essential Pull On Capri Pant   \n",
              "1  Alfred Dunner® Essential Pull On Capri Pant   \n",
              "2  Alfred Dunner® Essential Pull On Capri Pant   \n",
              "\n",
              "                                         Description  Price  Av_Score  \n",
              "0  Youll return to our Alfred Dunner pull-on capr...  41.09     2.625  \n",
              "1  Youll return to our Alfred Dunner pull-on capr...  41.09     2.625  \n",
              "2  Youll return to our Alfred Dunner pull-on capr...  41.09     2.625  "
            ],
            "text/html": [
              "\n",
              "  <div id=\"df-16a52511-f94f-47f2-94ed-e3f3d231e697\">\n",
              "    <div class=\"colab-df-container\">\n",
              "      <div>\n",
              "<style scoped>\n",
              "    .dataframe tbody tr th:only-of-type {\n",
              "        vertical-align: middle;\n",
              "    }\n",
              "\n",
              "    .dataframe tbody tr th {\n",
              "        vertical-align: top;\n",
              "    }\n",
              "\n",
              "    .dataframe thead th {\n",
              "        text-align: right;\n",
              "    }\n",
              "</style>\n",
              "<table border=\"1\" class=\"dataframe\">\n",
              "  <thead>\n",
              "    <tr style=\"text-align: right;\">\n",
              "      <th></th>\n",
              "      <th>Uniq_id</th>\n",
              "      <th>Username</th>\n",
              "      <th>Score</th>\n",
              "      <th>Review</th>\n",
              "      <th>SKU</th>\n",
              "      <th>Name</th>\n",
              "      <th>Description</th>\n",
              "      <th>Price</th>\n",
              "      <th>Av_Score</th>\n",
              "    </tr>\n",
              "  </thead>\n",
              "  <tbody>\n",
              "    <tr>\n",
              "      <th>0</th>\n",
              "      <td>b6c0b6bea69c722939585baeac73c13d</td>\n",
              "      <td>fsdv4141</td>\n",
              "      <td>2</td>\n",
              "      <td>You never have to worry about the fit...Alfred...</td>\n",
              "      <td>pp5006380337</td>\n",
              "      <td>Alfred Dunner® Essential Pull On Capri Pant</td>\n",
              "      <td>Youll return to our Alfred Dunner pull-on capr...</td>\n",
              "      <td>41.09</td>\n",
              "      <td>2.625</td>\n",
              "    </tr>\n",
              "    <tr>\n",
              "      <th>1</th>\n",
              "      <td>b6c0b6bea69c722939585baeac73c13d</td>\n",
              "      <td>krpz1113</td>\n",
              "      <td>1</td>\n",
              "      <td>Good quality fabric. Perfect fit. Washed very ...</td>\n",
              "      <td>pp5006380337</td>\n",
              "      <td>Alfred Dunner® Essential Pull On Capri Pant</td>\n",
              "      <td>Youll return to our Alfred Dunner pull-on capr...</td>\n",
              "      <td>41.09</td>\n",
              "      <td>2.625</td>\n",
              "    </tr>\n",
              "    <tr>\n",
              "      <th>2</th>\n",
              "      <td>b6c0b6bea69c722939585baeac73c13d</td>\n",
              "      <td>mbmg3241</td>\n",
              "      <td>2</td>\n",
              "      <td>I do not normally wear pants or capris that ha...</td>\n",
              "      <td>pp5006380337</td>\n",
              "      <td>Alfred Dunner® Essential Pull On Capri Pant</td>\n",
              "      <td>Youll return to our Alfred Dunner pull-on capr...</td>\n",
              "      <td>41.09</td>\n",
              "      <td>2.625</td>\n",
              "    </tr>\n",
              "  </tbody>\n",
              "</table>\n",
              "</div>\n",
              "      <button class=\"colab-df-convert\" onclick=\"convertToInteractive('df-16a52511-f94f-47f2-94ed-e3f3d231e697')\"\n",
              "              title=\"Convert this dataframe to an interactive table.\"\n",
              "              style=\"display:none;\">\n",
              "        \n",
              "  <svg xmlns=\"http://www.w3.org/2000/svg\" height=\"24px\"viewBox=\"0 0 24 24\"\n",
              "       width=\"24px\">\n",
              "    <path d=\"M0 0h24v24H0V0z\" fill=\"none\"/>\n",
              "    <path d=\"M18.56 5.44l.94 2.06.94-2.06 2.06-.94-2.06-.94-.94-2.06-.94 2.06-2.06.94zm-11 1L8.5 8.5l.94-2.06 2.06-.94-2.06-.94L8.5 2.5l-.94 2.06-2.06.94zm10 10l.94 2.06.94-2.06 2.06-.94-2.06-.94-.94-2.06-.94 2.06-2.06.94z\"/><path d=\"M17.41 7.96l-1.37-1.37c-.4-.4-.92-.59-1.43-.59-.52 0-1.04.2-1.43.59L10.3 9.45l-7.72 7.72c-.78.78-.78 2.05 0 2.83L4 21.41c.39.39.9.59 1.41.59.51 0 1.02-.2 1.41-.59l7.78-7.78 2.81-2.81c.8-.78.8-2.07 0-2.86zM5.41 20L4 18.59l7.72-7.72 1.47 1.35L5.41 20z\"/>\n",
              "  </svg>\n",
              "      </button>\n",
              "      \n",
              "  <style>\n",
              "    .colab-df-container {\n",
              "      display:flex;\n",
              "      flex-wrap:wrap;\n",
              "      gap: 12px;\n",
              "    }\n",
              "\n",
              "    .colab-df-convert {\n",
              "      background-color: #E8F0FE;\n",
              "      border: none;\n",
              "      border-radius: 50%;\n",
              "      cursor: pointer;\n",
              "      display: none;\n",
              "      fill: #1967D2;\n",
              "      height: 32px;\n",
              "      padding: 0 0 0 0;\n",
              "      width: 32px;\n",
              "    }\n",
              "\n",
              "    .colab-df-convert:hover {\n",
              "      background-color: #E2EBFA;\n",
              "      box-shadow: 0px 1px 2px rgba(60, 64, 67, 0.3), 0px 1px 3px 1px rgba(60, 64, 67, 0.15);\n",
              "      fill: #174EA6;\n",
              "    }\n",
              "\n",
              "    [theme=dark] .colab-df-convert {\n",
              "      background-color: #3B4455;\n",
              "      fill: #D2E3FC;\n",
              "    }\n",
              "\n",
              "    [theme=dark] .colab-df-convert:hover {\n",
              "      background-color: #434B5C;\n",
              "      box-shadow: 0px 1px 3px 1px rgba(0, 0, 0, 0.15);\n",
              "      filter: drop-shadow(0px 1px 2px rgba(0, 0, 0, 0.3));\n",
              "      fill: #FFFFFF;\n",
              "    }\n",
              "  </style>\n",
              "\n",
              "      <script>\n",
              "        const buttonEl =\n",
              "          document.querySelector('#df-16a52511-f94f-47f2-94ed-e3f3d231e697 button.colab-df-convert');\n",
              "        buttonEl.style.display =\n",
              "          google.colab.kernel.accessAllowed ? 'block' : 'none';\n",
              "\n",
              "        async function convertToInteractive(key) {\n",
              "          const element = document.querySelector('#df-16a52511-f94f-47f2-94ed-e3f3d231e697');\n",
              "          const dataTable =\n",
              "            await google.colab.kernel.invokeFunction('convertToInteractive',\n",
              "                                                     [key], {});\n",
              "          if (!dataTable) return;\n",
              "\n",
              "          const docLinkHtml = 'Like what you see? Visit the ' +\n",
              "            '<a target=\"_blank\" href=https://colab.research.google.com/notebooks/data_table.ipynb>data table notebook</a>'\n",
              "            + ' to learn more about interactive tables.';\n",
              "          element.innerHTML = '';\n",
              "          dataTable['output_type'] = 'display_data';\n",
              "          await google.colab.output.renderOutput(dataTable, element);\n",
              "          const docLink = document.createElement('div');\n",
              "          docLink.innerHTML = docLinkHtml;\n",
              "          element.appendChild(docLink);\n",
              "        }\n",
              "      </script>\n",
              "    </div>\n",
              "  </div>\n",
              "  "
            ]
          },
          "metadata": {},
          "execution_count": 32
        }
      ],
      "source": [
        "# Put your code and comments here\n",
        "merge_reviews_products = pd.merge(reviews_pd,products_pd, on='Uniq_id')\n",
        "merge_reviews_products.head(3)"
      ]
    },
    {
      "cell_type": "code",
      "source": [
        "!pip install pandasql"
      ],
      "metadata": {
        "colab": {
          "base_uri": "https://localhost:8080/"
        },
        "id": "h-aycgVsgU2n",
        "outputId": "5560d16d-5047-421f-bc24-5eb6a0308b5a"
      },
      "execution_count": null,
      "outputs": [
        {
          "output_type": "stream",
          "name": "stdout",
          "text": [
            "Collecting pandasql\n",
            "  Downloading pandasql-0.7.3.tar.gz (26 kB)\n",
            "Requirement already satisfied: numpy in /usr/local/lib/python3.7/dist-packages (from pandasql) (1.21.5)\n",
            "Requirement already satisfied: pandas in /usr/local/lib/python3.7/dist-packages (from pandasql) (1.3.5)\n",
            "Requirement already satisfied: sqlalchemy in /usr/local/lib/python3.7/dist-packages (from pandasql) (1.4.32)\n",
            "Requirement already satisfied: pytz>=2017.3 in /usr/local/lib/python3.7/dist-packages (from pandas->pandasql) (2018.9)\n",
            "Requirement already satisfied: python-dateutil>=2.7.3 in /usr/local/lib/python3.7/dist-packages (from pandas->pandasql) (2.8.2)\n",
            "Requirement already satisfied: six>=1.5 in /usr/local/lib/python3.7/dist-packages (from python-dateutil>=2.7.3->pandas->pandasql) (1.15.0)\n",
            "Requirement already satisfied: greenlet!=0.4.17 in /usr/local/lib/python3.7/dist-packages (from sqlalchemy->pandasql) (1.1.2)\n",
            "Requirement already satisfied: importlib-metadata in /usr/local/lib/python3.7/dist-packages (from sqlalchemy->pandasql) (4.11.2)\n",
            "Requirement already satisfied: typing-extensions>=3.6.4 in /usr/local/lib/python3.7/dist-packages (from importlib-metadata->sqlalchemy->pandasql) (3.10.0.2)\n",
            "Requirement already satisfied: zipp>=0.5 in /usr/local/lib/python3.7/dist-packages (from importlib-metadata->sqlalchemy->pandasql) (3.7.0)\n",
            "Building wheels for collected packages: pandasql\n",
            "  Building wheel for pandasql (setup.py) ... \u001b[?25l\u001b[?25hdone\n",
            "  Created wheel for pandasql: filename=pandasql-0.7.3-py3-none-any.whl size=26784 sha256=28ba68bc8f56b1e55a8e5aec27369bf6bf5008b7e0e02655bc82177bcab1fec1\n",
            "  Stored in directory: /root/.cache/pip/wheels/5c/4b/ec/41f4e116c8053c3654e2c2a47c62b4fca34cc67ef7b55deb7f\n",
            "Successfully built pandasql\n",
            "Installing collected packages: pandasql\n",
            "Successfully installed pandasql-0.7.3\n"
          ]
        }
      ]
    },
    {
      "cell_type": "code",
      "source": [
        "import pandasql as ps\n",
        "ps.sqldf(\"Select Username, Review, Name from merge_reviews_products where Uniq_id = 'b28e5508c1b0022f47ae8c6f92c4cb6c'\")"
      ],
      "metadata": {
        "colab": {
          "base_uri": "https://localhost:8080/",
          "height": 143
        },
        "id": "VgtpvJz5hNnG",
        "outputId": "67089253-3fff-4cb7-fd16-0716677961ca"
      },
      "execution_count": null,
      "outputs": [
        {
          "output_type": "execute_result",
          "data": {
            "text/plain": [
              "   Username                                             Review  \\\n",
              "0  xxlw3134  Pros: Cotton is one of the softest I have ever...   \n",
              "1  zdoz3242  The fit is somewhat loose, and I could not dis...   \n",
              "2  krpz1113  I bought this for my brother and he loves it.N...   \n",
              "\n",
              "                         Name  \n",
              "0  Island Shores™ Graphic Tee  \n",
              "1  Island Shores™ Graphic Tee  \n",
              "2  Island Shores™ Graphic Tee  "
            ],
            "text/html": [
              "\n",
              "  <div id=\"df-fafd66f3-a2e0-4f5a-9ac8-50b4c069b73e\">\n",
              "    <div class=\"colab-df-container\">\n",
              "      <div>\n",
              "<style scoped>\n",
              "    .dataframe tbody tr th:only-of-type {\n",
              "        vertical-align: middle;\n",
              "    }\n",
              "\n",
              "    .dataframe tbody tr th {\n",
              "        vertical-align: top;\n",
              "    }\n",
              "\n",
              "    .dataframe thead th {\n",
              "        text-align: right;\n",
              "    }\n",
              "</style>\n",
              "<table border=\"1\" class=\"dataframe\">\n",
              "  <thead>\n",
              "    <tr style=\"text-align: right;\">\n",
              "      <th></th>\n",
              "      <th>Username</th>\n",
              "      <th>Review</th>\n",
              "      <th>Name</th>\n",
              "    </tr>\n",
              "  </thead>\n",
              "  <tbody>\n",
              "    <tr>\n",
              "      <th>0</th>\n",
              "      <td>xxlw3134</td>\n",
              "      <td>Pros: Cotton is one of the softest I have ever...</td>\n",
              "      <td>Island Shores™ Graphic Tee</td>\n",
              "    </tr>\n",
              "    <tr>\n",
              "      <th>1</th>\n",
              "      <td>zdoz3242</td>\n",
              "      <td>The fit is somewhat loose, and I could not dis...</td>\n",
              "      <td>Island Shores™ Graphic Tee</td>\n",
              "    </tr>\n",
              "    <tr>\n",
              "      <th>2</th>\n",
              "      <td>krpz1113</td>\n",
              "      <td>I bought this for my brother and he loves it.N...</td>\n",
              "      <td>Island Shores™ Graphic Tee</td>\n",
              "    </tr>\n",
              "  </tbody>\n",
              "</table>\n",
              "</div>\n",
              "      <button class=\"colab-df-convert\" onclick=\"convertToInteractive('df-fafd66f3-a2e0-4f5a-9ac8-50b4c069b73e')\"\n",
              "              title=\"Convert this dataframe to an interactive table.\"\n",
              "              style=\"display:none;\">\n",
              "        \n",
              "  <svg xmlns=\"http://www.w3.org/2000/svg\" height=\"24px\"viewBox=\"0 0 24 24\"\n",
              "       width=\"24px\">\n",
              "    <path d=\"M0 0h24v24H0V0z\" fill=\"none\"/>\n",
              "    <path d=\"M18.56 5.44l.94 2.06.94-2.06 2.06-.94-2.06-.94-.94-2.06-.94 2.06-2.06.94zm-11 1L8.5 8.5l.94-2.06 2.06-.94-2.06-.94L8.5 2.5l-.94 2.06-2.06.94zm10 10l.94 2.06.94-2.06 2.06-.94-2.06-.94-.94-2.06-.94 2.06-2.06.94z\"/><path d=\"M17.41 7.96l-1.37-1.37c-.4-.4-.92-.59-1.43-.59-.52 0-1.04.2-1.43.59L10.3 9.45l-7.72 7.72c-.78.78-.78 2.05 0 2.83L4 21.41c.39.39.9.59 1.41.59.51 0 1.02-.2 1.41-.59l7.78-7.78 2.81-2.81c.8-.78.8-2.07 0-2.86zM5.41 20L4 18.59l7.72-7.72 1.47 1.35L5.41 20z\"/>\n",
              "  </svg>\n",
              "      </button>\n",
              "      \n",
              "  <style>\n",
              "    .colab-df-container {\n",
              "      display:flex;\n",
              "      flex-wrap:wrap;\n",
              "      gap: 12px;\n",
              "    }\n",
              "\n",
              "    .colab-df-convert {\n",
              "      background-color: #E8F0FE;\n",
              "      border: none;\n",
              "      border-radius: 50%;\n",
              "      cursor: pointer;\n",
              "      display: none;\n",
              "      fill: #1967D2;\n",
              "      height: 32px;\n",
              "      padding: 0 0 0 0;\n",
              "      width: 32px;\n",
              "    }\n",
              "\n",
              "    .colab-df-convert:hover {\n",
              "      background-color: #E2EBFA;\n",
              "      box-shadow: 0px 1px 2px rgba(60, 64, 67, 0.3), 0px 1px 3px 1px rgba(60, 64, 67, 0.15);\n",
              "      fill: #174EA6;\n",
              "    }\n",
              "\n",
              "    [theme=dark] .colab-df-convert {\n",
              "      background-color: #3B4455;\n",
              "      fill: #D2E3FC;\n",
              "    }\n",
              "\n",
              "    [theme=dark] .colab-df-convert:hover {\n",
              "      background-color: #434B5C;\n",
              "      box-shadow: 0px 1px 3px 1px rgba(0, 0, 0, 0.15);\n",
              "      filter: drop-shadow(0px 1px 2px rgba(0, 0, 0, 0.3));\n",
              "      fill: #FFFFFF;\n",
              "    }\n",
              "  </style>\n",
              "\n",
              "      <script>\n",
              "        const buttonEl =\n",
              "          document.querySelector('#df-fafd66f3-a2e0-4f5a-9ac8-50b4c069b73e button.colab-df-convert');\n",
              "        buttonEl.style.display =\n",
              "          google.colab.kernel.accessAllowed ? 'block' : 'none';\n",
              "\n",
              "        async function convertToInteractive(key) {\n",
              "          const element = document.querySelector('#df-fafd66f3-a2e0-4f5a-9ac8-50b4c069b73e');\n",
              "          const dataTable =\n",
              "            await google.colab.kernel.invokeFunction('convertToInteractive',\n",
              "                                                     [key], {});\n",
              "          if (!dataTable) return;\n",
              "\n",
              "          const docLinkHtml = 'Like what you see? Visit the ' +\n",
              "            '<a target=\"_blank\" href=https://colab.research.google.com/notebooks/data_table.ipynb>data table notebook</a>'\n",
              "            + ' to learn more about interactive tables.';\n",
              "          element.innerHTML = '';\n",
              "          dataTable['output_type'] = 'display_data';\n",
              "          await google.colab.output.renderOutput(dataTable, element);\n",
              "          const docLink = document.createElement('div');\n",
              "          docLink.innerHTML = docLinkHtml;\n",
              "          element.appendChild(docLink);\n",
              "        }\n",
              "      </script>\n",
              "    </div>\n",
              "  </div>\n",
              "  "
            ]
          },
          "metadata": {},
          "execution_count": 34
        }
      ]
    }
  ],
  "metadata": {
    "kernelspec": {
      "display_name": "Python 3",
      "language": "python",
      "name": "python3"
    },
    "language_info": {
      "codemirror_mode": {
        "name": "ipython",
        "version": 3
      },
      "file_extension": ".py",
      "mimetype": "text/x-python",
      "name": "python",
      "nbconvert_exporter": "python",
      "pygments_lexer": "ipython3",
      "version": "3.5.5"
    },
    "colab": {
      "name": "Copy of JCPenneyAssignment-checkpoint.ipynb",
      "provenance": [],
      "collapsed_sections": [],
      "include_colab_link": true
    }
  },
  "nbformat": 4,
  "nbformat_minor": 0
}