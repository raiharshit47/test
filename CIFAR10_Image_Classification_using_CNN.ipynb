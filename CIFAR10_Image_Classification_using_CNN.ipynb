{
  "nbformat": 4,
  "nbformat_minor": 0,
  "metadata": {
    "colab": {
      "name": "Image Classification using CNN.ipynb",
      "provenance": [],
      "collapsed_sections": [],
      "authorship_tag": "ABX9TyN+HuU3v1n52BMrltDJVamR",
      "include_colab_link": true
    },
    "kernelspec": {
      "name": "python3",
      "display_name": "Python 3"
    },
    "language_info": {
      "name": "python"
    }
  },
  "cells": [
    {
      "cell_type": "markdown",
      "metadata": {
        "id": "view-in-github",
        "colab_type": "text"
      },
      "source": [
        "<a href=\"https://colab.research.google.com/github/raiharshit47/test/blob/main/CIFAR10_Image_Classification_using_CNN.ipynb\" target=\"_parent\"><img src=\"https://colab.research.google.com/assets/colab-badge.svg\" alt=\"Open In Colab\"/></a>"
      ]
    },
    {
      "cell_type": "code",
      "execution_count": null,
      "metadata": {
        "id": "uFwB6oAMmem7"
      },
      "outputs": [],
      "source": [
        "import tensorflow as tf\n",
        "from tensorflow.keras import datasets, layers, models\n",
        "import matplotlib.pyplot as plt\n",
        "import numpy as np\n",
        "from tensorflow import keras"
      ]
    },
    {
      "cell_type": "code",
      "source": [
        "(X_train, y_train),(X_test, y_test) = datasets.cifar10.load_data()\n",
        "X_train.shape"
      ],
      "metadata": {
        "colab": {
          "base_uri": "https://localhost:8080/"
        },
        "id": "INXM1yZSmxQ-",
        "outputId": "f78bd00f-dd94-46bd-a7cb-5b9e1d242453"
      },
      "execution_count": null,
      "outputs": [
        {
          "output_type": "stream",
          "name": "stdout",
          "text": [
            "Downloading data from https://www.cs.toronto.edu/~kriz/cifar-10-python.tar.gz\n",
            "170500096/170498071 [==============================] - 2s 0us/step\n",
            "170508288/170498071 [==============================] - 2s 0us/step\n"
          ]
        },
        {
          "output_type": "execute_result",
          "data": {
            "text/plain": [
              "(50000, 32, 32, 3)"
            ]
          },
          "metadata": {},
          "execution_count": 2
        }
      ]
    },
    {
      "cell_type": "code",
      "source": [
        "X_test.shape"
      ],
      "metadata": {
        "colab": {
          "base_uri": "https://localhost:8080/"
        },
        "id": "FbOCSu54nOmL",
        "outputId": "ab2bfe90-b756-4880-be76-1dd5188f070c"
      },
      "execution_count": null,
      "outputs": [
        {
          "output_type": "execute_result",
          "data": {
            "text/plain": [
              "(10000, 32, 32, 3)"
            ]
          },
          "metadata": {},
          "execution_count": 3
        }
      ]
    },
    {
      "cell_type": "code",
      "source": [
        "y_train.shape"
      ],
      "metadata": {
        "colab": {
          "base_uri": "https://localhost:8080/"
        },
        "id": "Vutx5zHoo-TG",
        "outputId": "2c1346aa-c9e8-4c5c-e71f-48156a6a39d4"
      },
      "execution_count": null,
      "outputs": [
        {
          "output_type": "execute_result",
          "data": {
            "text/plain": [
              "(50000, 1)"
            ]
          },
          "metadata": {},
          "execution_count": 9
        }
      ]
    },
    {
      "cell_type": "code",
      "source": [
        "y_train = y_train.reshape(-1,)\n",
        "y_train[:5]"
      ],
      "metadata": {
        "colab": {
          "base_uri": "https://localhost:8080/"
        },
        "id": "VBzscjzrpBvT",
        "outputId": "91a69ab6-da76-48de-b6b0-bf04311e9b34"
      },
      "execution_count": null,
      "outputs": [
        {
          "output_type": "execute_result",
          "data": {
            "text/plain": [
              "array([6, 9, 9, 4, 1], dtype=uint8)"
            ]
          },
          "metadata": {},
          "execution_count": 11
        }
      ]
    },
    {
      "cell_type": "code",
      "source": [
        "classes = [\"airplane\", \"automobile\", \"bird\", \"cat\", \"deer\", \"dog\", \"frog\", \"horse\", \"ship\", \"truck\"]\n",
        "\n",
        "def plot_sample(X, y, index):\n",
        "  plt.figure(figsize = (10,2))\n",
        "  plt.imshow(X[index])\n",
        "  plt.xlabel(classes[y[index]])"
      ],
      "metadata": {
        "id": "00iKvhBunRy7"
      },
      "execution_count": null,
      "outputs": []
    },
    {
      "cell_type": "code",
      "source": [
        "plot_sample(X_train, y_train, 0)"
      ],
      "metadata": {
        "colab": {
          "base_uri": "https://localhost:8080/",
          "height": 173
        },
        "id": "8t8LJ60bnUpV",
        "outputId": "f37f472d-5e1d-4dc3-d61a-6ec5f596c4b0"
      },
      "execution_count": null,
      "outputs": [
        {
          "output_type": "display_data",
          "data": {
            "image/png": "[encoded data removed]",
            "text/plain": [
              "<Figure size 720x144 with 1 Axes>"
            ]
          },
          "metadata": {
            "needs_background": "light"
          }
        }
      ]
    },
    {
      "cell_type": "code",
      "source": [
        "plot_sample(X_train, y_train, 1)"
      ],
      "metadata": {
        "colab": {
          "base_uri": "https://localhost:8080/",
          "height": 173
        },
        "id": "vNaZw285plbq",
        "outputId": "11d0b167-b119-40f1-a33c-4b350b4ec6aa"
      },
      "execution_count": null,
      "outputs": [
        {
          "output_type": "display_data",
          "data": {
            "image/png": "[encoded data removed]",
            "text/plain": [
              "<Figure size 720x144 with 1 Axes>"
            ]
          },
          "metadata": {
            "needs_background": "light"
          }
        }
      ]
    },
    {
      "cell_type": "code",
      "source": [
        "X_train = X_train / 255\n",
        "X_test = X_test / 255"
      ],
      "metadata": {
        "id": "GXVRKkjXps-2"
      },
      "execution_count": null,
      "outputs": []
    },
    {
      "cell_type": "code",
      "source": [
        "model = keras.Sequential([\n",
        "                          keras.layers.Flatten(input_shape=(32,32,3)),\n",
        "                          keras.layers.Dense(3000, activation='relu'),\n",
        "                          keras.layers.Dense(1000, activation='relu'),\n",
        "                          keras.layers.Dense(10, activation='sigmoid')\n",
        "])\n",
        "\n",
        "model.compile(\n",
        "  optimizer='SGD',\n",
        "  loss='sparse_categorical_crossentropy',\n",
        "  metrics=['accuracy']\n",
        ")\n",
        "\n",
        "model.fit(X_train, y_train, epochs=5)"
      ],
      "metadata": {
        "colab": {
          "base_uri": "https://localhost:8080/"
        },
        "id": "p9uTr3uKqBiY",
        "outputId": "b16acd7d-ff49-4b9b-9659-8371182bf9dc"
      },
      "execution_count": null,
      "outputs": [
        {
          "output_type": "stream",
          "name": "stdout",
          "text": [
            "Epoch 1/5\n",
            "1563/1563 [==============================] - 109s 70ms/step - loss: 1.8098 - accuracy: 0.3555\n",
            "Epoch 2/5\n",
            "1563/1563 [==============================] - 105s 67ms/step - loss: 1.6198 - accuracy: 0.4277\n",
            "Epoch 3/5\n",
            "1563/1563 [==============================] - 105s 67ms/step - loss: 1.5378 - accuracy: 0.4588\n",
            "Epoch 4/5\n",
            "1563/1563 [==============================] - 106s 68ms/step - loss: 1.4778 - accuracy: 0.4780\n",
            "Epoch 5/5\n",
            "1563/1563 [==============================] - 105s 67ms/step - loss: 1.4300 - accuracy: 0.4960\n"
          ]
        },
        {
          "output_type": "execute_result",
          "data": {
            "text/plain": [
              "<keras.callbacks.History at 0x7f96009df990>"
            ]
          },
          "metadata": {},
          "execution_count": 20
        }
      ]
    },
    {
      "cell_type": "code",
      "source": [
        "model.evaluate(X_test, y_test)"
      ],
      "metadata": {
        "colab": {
          "base_uri": "https://localhost:8080/"
        },
        "id": "VgcS6fLTqldh",
        "outputId": "a76cbb08-14c8-4fbb-e37a-0fafc64279b2"
      },
      "execution_count": null,
      "outputs": [
        {
          "output_type": "stream",
          "name": "stdout",
          "text": [
            "313/313 [==============================] - 8s 26ms/step - loss: 1.4709 - accuracy: 0.4748\n"
          ]
        },
        {
          "output_type": "execute_result",
          "data": {
            "text/plain": [
              "[1.4708905220031738, 0.4747999906539917]"
            ]
          },
          "metadata": {},
          "execution_count": 21
        }
      ]
    },
    {
      "cell_type": "code",
      "source": [
        "from sklearn.metrics import confusion_matrix, classification_report\n",
        "import numpy as np\n",
        "y_pred = model.predict(X_test)\n",
        "y_pred_class = [np.argmax(i) for i in y_pred]\n",
        "\n",
        "print(\"Classification report: \\n\", classification_report(y_test, y_pred_class))"
      ],
      "metadata": {
        "colab": {
          "base_uri": "https://localhost:8080/"
        },
        "id": "jqBM6Iyls_mZ",
        "outputId": "15a3be91-8ac9-4473-8260-9e8bfddeeba2"
      },
      "execution_count": null,
      "outputs": [
        {
          "output_type": "stream",
          "name": "stdout",
          "text": [
            "Classification report: \n",
            "               precision    recall  f1-score   support\n",
            "\n",
            "           0       0.48      0.62      0.54      1000\n",
            "           1       0.65      0.58      0.61      1000\n",
            "           2       0.39      0.31      0.35      1000\n",
            "           3       0.35      0.33      0.34      1000\n",
            "           4       0.54      0.26      0.35      1000\n",
            "           5       0.28      0.54      0.37      1000\n",
            "           6       0.50      0.56      0.53      1000\n",
            "           7       0.63      0.46      0.53      1000\n",
            "           8       0.55      0.65      0.60      1000\n",
            "           9       0.64      0.45      0.53      1000\n",
            "\n",
            "    accuracy                           0.47     10000\n",
            "   macro avg       0.50      0.47      0.47     10000\n",
            "weighted avg       0.50      0.47      0.47     10000\n",
            "\n"
          ]
        }
      ]
    },
    {
      "cell_type": "code",
      "source": [
        "cnn = keras.Sequential([\n",
        "                          # cnn\n",
        "                          keras.layers.Conv2D(filters=32, kernel_size=(3,3), activation='relu', input_shape=(32,32,3)),\n",
        "                          keras.layers.MaxPooling2D((2,2)),\n",
        "                          \n",
        "                          keras.layers.Conv2D(filters=64, kernel_size=(3,3), activation='relu'),\n",
        "                          keras.layers.MaxPooling2D((2,2)),\n",
        "                          \n",
        "                          # dense\n",
        "                          keras.layers.Flatten(),\n",
        "                          keras.layers.Dense(64, activation='relu'),\n",
        "                          keras.layers.Dense(10, activation='softmax')\n",
        "])"
      ],
      "metadata": {
        "id": "HoRXcgfJtnvn"
      },
      "execution_count": null,
      "outputs": []
    },
    {
      "cell_type": "code",
      "source": [
        "cnn.compile(\n",
        "    optimizer='adam',\n",
        "    loss='sparse_categorical_crossentropy',\n",
        "    metrics=['accuracy']\n",
        ")"
      ],
      "metadata": {
        "id": "CA9tcTJjvsAc"
      },
      "execution_count": null,
      "outputs": []
    },
    {
      "cell_type": "code",
      "source": [
        "cnn.fit(X_train, y_train, epochs=10)"
      ],
      "metadata": {
        "colab": {
          "base_uri": "https://localhost:8080/"
        },
        "id": "hzIIzT_Ev7mJ",
        "outputId": "d53fa6ef-09a1-4e7e-f581-d4a9d0ea20b1"
      },
      "execution_count": null,
      "outputs": [
        {
          "output_type": "stream",
          "name": "stdout",
          "text": [
            "Epoch 1/10\n",
            "1563/1563 [==============================] - 66s 42ms/step - loss: 1.4465 - accuracy: 0.4819\n",
            "Epoch 2/10\n",
            "1563/1563 [==============================] - 64s 41ms/step - loss: 1.0869 - accuracy: 0.6194\n",
            "Epoch 3/10\n",
            "1563/1563 [==============================] - 64s 41ms/step - loss: 0.9609 - accuracy: 0.6658\n",
            "Epoch 4/10\n",
            "1563/1563 [==============================] - 64s 41ms/step - loss: 0.8707 - accuracy: 0.6983\n",
            "Epoch 5/10\n",
            "1563/1563 [==============================] - 64s 41ms/step - loss: 0.8114 - accuracy: 0.7171\n",
            "Epoch 6/10\n",
            "1563/1563 [==============================] - 64s 41ms/step - loss: 0.7501 - accuracy: 0.7382\n",
            "Epoch 7/10\n",
            "1563/1563 [==============================] - 64s 41ms/step - loss: 0.6923 - accuracy: 0.7582\n",
            "Epoch 8/10\n",
            "1563/1563 [==============================] - 64s 41ms/step - loss: 0.6460 - accuracy: 0.7737\n",
            "Epoch 9/10\n",
            "1563/1563 [==============================] - 64s 41ms/step - loss: 0.6031 - accuracy: 0.7906\n",
            "Epoch 10/10\n",
            "1563/1563 [==============================] - 64s 41ms/step - loss: 0.5598 - accuracy: 0.8033\n"
          ]
        },
        {
          "output_type": "execute_result",
          "data": {
            "text/plain": [
              "<keras.callbacks.History at 0x7f95fe4669d0>"
            ]
          },
          "metadata": {},
          "execution_count": 25
        }
      ]
    },
    {
      "cell_type": "code",
      "source": [
        "cnn.evaluate(X_test, y_test)"
      ],
      "metadata": {
        "colab": {
          "base_uri": "https://localhost:8080/"
        },
        "id": "n2yt99dtwBAK",
        "outputId": "036e3106-aed5-48da-d2f6-ab2e49161dac"
      },
      "execution_count": null,
      "outputs": [
        {
          "output_type": "stream",
          "name": "stdout",
          "text": [
            "313/313 [==============================] - 5s 16ms/step - loss: 0.9218 - accuracy: 0.7084\n"
          ]
        },
        {
          "output_type": "execute_result",
          "data": {
            "text/plain": [
              "[0.9217549562454224, 0.7084000110626221]"
            ]
          },
          "metadata": {},
          "execution_count": 26
        }
      ]
    },
    {
      "cell_type": "code",
      "source": [
        "y_test = y_test.reshape(-1,)\n",
        "y_test[:5]"
      ],
      "metadata": {
        "colab": {
          "base_uri": "https://localhost:8080/"
        },
        "id": "XMKmIFnKyjPa",
        "outputId": "04bf952e-c516-4a0c-87ec-dd744f2e16a3"
      },
      "execution_count": null,
      "outputs": [
        {
          "output_type": "execute_result",
          "data": {
            "text/plain": [
              "array([3, 8, 8, 0, 6], dtype=uint8)"
            ]
          },
          "metadata": {},
          "execution_count": 28
        }
      ]
    },
    {
      "cell_type": "code",
      "source": [
        "plot_sample(X_test, y_test, 1)"
      ],
      "metadata": {
        "colab": {
          "base_uri": "https://localhost:8080/",
          "height": 173
        },
        "id": "BjbT2T5bypks",
        "outputId": "0d9a6a0d-3343-4ce1-ae66-6917e7b2e2ec"
      },
      "execution_count": null,
      "outputs": [
        {
          "output_type": "display_data",
          "data": {
            "image/png": "[encoded data removed]",
            "text/plain": [
              "<Figure size 720x144 with 1 Axes>"
            ]
          },
          "metadata": {
            "needs_background": "light"
          }
        }
      ]
    },
    {
      "cell_type": "code",
      "source": [
        "y_pred = cnn.predict(X_test)\n",
        "y_pred[:5]"
      ],
      "metadata": {
        "colab": {
          "base_uri": "https://localhost:8080/"
        },
        "id": "tVL09EYjyxbc",
        "outputId": "85b42833-5d9e-4ed2-c036-24e747c0c5c7"
      },
      "execution_count": null,
      "outputs": [
        {
          "output_type": "execute_result",
          "data": {
            "text/plain": [
              "array([[6.1740968e-05, 3.1794184e-06, 5.4748869e-04, 9.7240257e-01,\n",
              "        1.2951148e-04, 2.4344672e-02, 1.5141426e-03, 1.1354678e-06,\n",
              "        9.1700826e-04, 7.8552235e-05],\n",
              "       [1.0142522e-03, 1.8450130e-03, 5.5520322e-09, 1.3674895e-08,\n",
              "        1.6744441e-09, 5.3844221e-11, 1.5957708e-09, 6.7377277e-11,\n",
              "        9.9691111e-01, 2.2962378e-04],\n",
              "       [5.8728699e-02, 2.8818781e-02, 8.5673359e-04, 1.0875850e-02,\n",
              "        3.5917098e-04, 1.2111771e-03, 2.3400338e-04, 7.8575080e-04,\n",
              "        8.9452922e-01, 3.6005531e-03],\n",
              "       [4.1602090e-01, 7.1586011e-04, 1.7921397e-04, 1.6426288e-04,\n",
              "        1.5221336e-05, 3.4894906e-06, 1.4085042e-04, 1.2454337e-05,\n",
              "        5.8238608e-01, 3.6169984e-04],\n",
              "       [2.8702331e-07, 6.2719046e-05, 1.7870784e-02, 2.5949622e-02,\n",
              "        2.4359080e-01, 3.3118993e-03, 7.0920777e-01, 2.8092431e-06,\n",
              "        2.5642905e-06, 8.1193122e-07]], dtype=float32)"
            ]
          },
          "metadata": {},
          "execution_count": 30
        }
      ]
    },
    {
      "cell_type": "code",
      "source": [
        "y_classes = [np.argmax(i) for i in y_pred]\n",
        "y_classes[:5]"
      ],
      "metadata": {
        "colab": {
          "base_uri": "https://localhost:8080/"
        },
        "id": "D_e5tJzSy6PS",
        "outputId": "30f15422-9aaa-4b9e-c96e-e03f9c6d930c"
      },
      "execution_count": null,
      "outputs": [
        {
          "output_type": "execute_result",
          "data": {
            "text/plain": [
              "[3, 8, 8, 8, 6]"
            ]
          },
          "metadata": {},
          "execution_count": 31
        }
      ]
    },
    {
      "cell_type": "code",
      "source": [
        "y_test[:5]"
      ],
      "metadata": {
        "colab": {
          "base_uri": "https://localhost:8080/"
        },
        "id": "9KZn91KWzZl0",
        "outputId": "a2a4fb44-3546-433c-f183-7645ff13f2b5"
      },
      "execution_count": null,
      "outputs": [
        {
          "output_type": "execute_result",
          "data": {
            "text/plain": [
              "array([3, 8, 8, 0, 6], dtype=uint8)"
            ]
          },
          "metadata": {},
          "execution_count": 32
        }
      ]
    },
    {
      "cell_type": "code",
      "source": [
        "plot_sample(X_test, y_test, 0)"
      ],
      "metadata": {
        "colab": {
          "base_uri": "https://localhost:8080/",
          "height": 173
        },
        "id": "6EdO-c-rzilb",
        "outputId": "877041b5-0a38-4d1a-c4ad-70942c0cf473"
      },
      "execution_count": null,
      "outputs": [
        {
          "output_type": "display_data",
          "data": {
            "image/png": "[encoded data removed]",
            "text/plain": [
              "<Figure size 720x144 with 1 Axes>"
            ]
          },
          "metadata": {
            "needs_background": "light"
          }
        }
      ]
    },
    {
      "cell_type": "code",
      "source": [
        "classes[y_classes[0]]"
      ],
      "metadata": {
        "colab": {
          "base_uri": "https://localhost:8080/",
          "height": 35
        },
        "id": "4sOrWUqRzorJ",
        "outputId": "db8d6817-5f1a-451a-dde7-ab6f413d6b43"
      },
      "execution_count": null,
      "outputs": [
        {
          "output_type": "execute_result",
          "data": {
            "application/vnd.google.colaboratory.intrinsic+json": {
              "type": "string"
            },
            "text/plain": [
              "'cat'"
            ]
          },
          "metadata": {},
          "execution_count": 36
        }
      ]
    },
    {
      "cell_type": "code",
      "source": [
        "print(\"Classification report: \\n\", classification_report(y_test, y_classes))"
      ],
      "metadata": {
        "colab": {
          "base_uri": "https://localhost:8080/"
        },
        "id": "VYH4hSkOztnY",
        "outputId": "5e54dcfc-f7d3-41ad-b0bd-1d7d13c04bc2"
      },
      "execution_count": null,
      "outputs": [
        {
          "output_type": "stream",
          "name": "stdout",
          "text": [
            "Classification report: \n",
            "               precision    recall  f1-score   support\n",
            "\n",
            "           0       0.76      0.72      0.74      1000\n",
            "           1       0.82      0.81      0.81      1000\n",
            "           2       0.66      0.57      0.61      1000\n",
            "           3       0.49      0.54      0.51      1000\n",
            "           4       0.71      0.61      0.66      1000\n",
            "           5       0.61      0.63      0.62      1000\n",
            "           6       0.73      0.83      0.78      1000\n",
            "           7       0.80      0.73      0.76      1000\n",
            "           8       0.80      0.81      0.81      1000\n",
            "           9       0.73      0.83      0.78      1000\n",
            "\n",
            "    accuracy                           0.71     10000\n",
            "   macro avg       0.71      0.71      0.71     10000\n",
            "weighted avg       0.71      0.71      0.71     10000\n",
            "\n"
          ]
        }
      ]
    },
    {
      "cell_type": "code",
      "source": [
        ""
      ],
      "metadata": {
        "id": "9OvdxwWzz_UU"
      },
      "execution_count": null,
      "outputs": []
    }
  ]
}